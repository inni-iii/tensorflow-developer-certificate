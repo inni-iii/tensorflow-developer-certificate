{
  "cells": [
    {
      "cell_type": "markdown",
      "metadata": {
        "id": "2YjA1u2N5QoE"
      },
      "source": [
        "<a href=\"https://colab.research.google.com/github/https-deeplearning-ai/tensorflow-1-public/blob/main/C4/W4/ungraded_labs/C4_W4_Lab_2_Sunspots_DNN.ipynb\" target=\"_parent\"><img src=\"https://colab.research.google.com/assets/colab-badge.svg\" alt=\"Open In Colab\"/></a>"
      ]
    },
    {
      "cell_type": "markdown",
      "metadata": {
        "id": "JQsk1BKwZrBh"
      },
      "source": [
        "# Ungraded Lab: Predicting Sunspots with Neural Networks (DNN only)\n",
        "\n",
        "In the remaining labs for this week, you will move away from synthetic time series and start building models for real world data. In particular, you will train on the [Sunspots](https://www.kaggle.com/datasets/robervalt/sunspots) dataset: a monthly record of sunspot numbers from January 1749 to July 2018. You will first build a deep neural network here composed of dense layers. This will act as your baseline so you can compare it to the next lab where you will use a more complex architecture.\n",
        "\n",
        "Let's begin!"
      ]
    },
    {
      "cell_type": "markdown",
      "metadata": {
        "id": "2JHlrB12aeFD"
      },
      "source": [
        "## Imports\n",
        "\n",
        "You will use the same imports as before with the addition of the [csv](https://docs.python.org/3/library/csv.html) module. You will need this to parse the CSV file containing the dataset."
      ]
    },
    {
      "cell_type": "code",
      "execution_count": 1,
      "metadata": {
        "id": "56XEQOGknrAk"
      },
      "outputs": [],
      "source": [
        "import tensorflow as tf\n",
        "import numpy as np\n",
        "import matplotlib.pyplot as plt\n",
        "import csv"
      ]
    },
    {
      "cell_type": "markdown",
      "metadata": {
        "id": "D-mNttnaagBH"
      },
      "source": [
        "## Utilities\n",
        "\n",
        "You will only have the `plot_series()` dataset here because you no longer need the synthetic data generation functions."
      ]
    },
    {
      "cell_type": "code",
      "execution_count": 2,
      "metadata": {
        "id": "sLl52leVp5wU"
      },
      "outputs": [],
      "source": [
        "def plot_series(x, y, format=\"-\", start=0, end=None, \n",
        "                title=None, xlabel=None, ylabel=None, legend=None ):\n",
        "    \"\"\"\n",
        "    Visualizes time series data\n",
        "\n",
        "    Args:\n",
        "      x (array of int) - contains values for the x-axis\n",
        "      y (array of int or tuple of arrays) - contains the values for the y-axis\n",
        "      format (string) - line style when plotting the graph\n",
        "      label (string) - tag for the line\n",
        "      start (int) - first time step to plot\n",
        "      end (int) - last time step to plot\n",
        "      title (string) - title of the plot\n",
        "      xlabel (string) - label for the x-axis\n",
        "      ylabel (string) - label for the y-axis\n",
        "      legend (list of strings) - legend for the plot\n",
        "    \"\"\"\n",
        "\n",
        "    # Setup dimensions of the graph figure\n",
        "    plt.figure(figsize=(10, 6))\n",
        "    \n",
        "    # Check if there are more than two series to plot\n",
        "    if type(y) is tuple:\n",
        "\n",
        "      # Loop over the y elements\n",
        "      for y_curr in y:\n",
        "\n",
        "        # Plot the x and current y values\n",
        "        plt.plot(x[start:end], y_curr[start:end], format)\n",
        "\n",
        "    else:\n",
        "      # Plot the x and y values\n",
        "      plt.plot(x[start:end], y[start:end], format)\n",
        "\n",
        "    # Label the x-axis\n",
        "    plt.xlabel(xlabel)\n",
        "\n",
        "    # Label the y-axis\n",
        "    plt.ylabel(ylabel)\n",
        "\n",
        "    # Set the legend\n",
        "    if legend:\n",
        "      plt.legend(legend)\n",
        "\n",
        "    # Set the title\n",
        "    plt.title(title)\n",
        "\n",
        "    # Overlay a grid on the graph\n",
        "    plt.grid(True)\n",
        "\n",
        "    # Draw the graph on screen\n",
        "    plt.show()"
      ]
    },
    {
      "cell_type": "markdown",
      "metadata": {
        "id": "dFJv45pDauS8"
      },
      "source": [
        "## Download and Preview the Dataset\n",
        "\n",
        "You can now download the dataset and inspect the contents. The link in class is from Laurence's repo but we also hosted it in the link below."
      ]
    },
    {
      "cell_type": "code",
      "execution_count": 3,
      "metadata": {
        "id": "YwI-si5xyUkQ",
        "colab": {
          "base_uri": "https://localhost:8080/"
        },
        "outputId": "08665075-d8ca-443b-83e6-10abd24910bf"
      },
      "outputs": [
        {
          "output_type": "stream",
          "name": "stdout",
          "text": [
            "--2022-07-13 09:30:47--  https://storage.googleapis.com/tensorflow-1-public/course4/Sunspots.csv\n",
            "Resolving storage.googleapis.com (storage.googleapis.com)... 108.177.98.128, 74.125.197.128, 74.125.142.128, ...\n",
            "Connecting to storage.googleapis.com (storage.googleapis.com)|108.177.98.128|:443... connected.\n",
            "HTTP request sent, awaiting response... 200 OK\n",
            "Length: 70827 (69K) [text/csv]\n",
            "Saving to: ‘Sunspots.csv’\n",
            "\n",
            "\rSunspots.csv          0%[                    ]       0  --.-KB/s               \rSunspots.csv        100%[===================>]  69.17K  --.-KB/s    in 0.001s  \n",
            "\n",
            "2022-07-13 09:30:47 (84.9 MB/s) - ‘Sunspots.csv’ saved [70827/70827]\n",
            "\n"
          ]
        }
      ],
      "source": [
        "# Download the dataset\n",
        "!wget https://storage.googleapis.com/tensorflow-1-public/course4/Sunspots.csv"
      ]
    },
    {
      "cell_type": "markdown",
      "metadata": {
        "id": "c0fAiMytrwPJ"
      },
      "source": [
        "Running the cell below, you'll see that there are only three columns in the dataset:\n",
        "1. untitled column containing the month number\n",
        "2. Date which has the format `YYYY-MM-DD`\n",
        "3. Mean Total Sunspot Number"
      ]
    },
    {
      "cell_type": "code",
      "execution_count": 4,
      "metadata": {
        "id": "d5W2auXKrhVh",
        "colab": {
          "base_uri": "https://localhost:8080/"
        },
        "outputId": "ebe3dc5f-1f56-45a8-f3ac-0eaac360ebeb"
      },
      "outputs": [
        {
          "output_type": "stream",
          "name": "stdout",
          "text": [
            ",Date,Monthly Mean Total Sunspot Number\r\n",
            "0,1749-01-31,96.7\r\n",
            "1,1749-02-28,104.3\r\n",
            "2,1749-03-31,116.7\r\n",
            "3,1749-04-30,92.8\r\n",
            "4,1749-05-31,141.7\r\n",
            "5,1749-06-30,139.2\r\n",
            "6,1749-07-31,158.0\r\n",
            "7,1749-08-31,110.5\r\n",
            "8,1749-09-30,126.5\r\n"
          ]
        }
      ],
      "source": [
        "# Preview the dataset\n",
        "!head Sunspots.csv"
      ]
    },
    {
      "cell_type": "markdown",
      "metadata": {
        "id": "lbs-Y2SDsVaw"
      },
      "source": [
        "For this lab and the next, you will only need the month number and the mean total sunspot number. You will load those into memory and convert it to arrays that represents a time series."
      ]
    },
    {
      "cell_type": "code",
      "execution_count": 5,
      "metadata": {
        "id": "NcG9r1eClbTh",
        "colab": {
          "base_uri": "https://localhost:8080/",
          "height": 388
        },
        "outputId": "f2ea8673-3201-49e6-fcc9-0e9d045ff97e"
      },
      "outputs": [
        {
          "output_type": "display_data",
          "data": {
            "text/plain": [
              "<Figure size 720x432 with 1 Axes>"
            ],
            "image/png": "[encoded data removed]"
          },
          "metadata": {
            "needs_background": "light"
          }
        }
      ],
      "source": [
        "# Initialize lists\n",
        "time_step = []\n",
        "sunspots = []\n",
        "\n",
        "# Open CSV file\n",
        "with open('./Sunspots.csv') as csvfile:\n",
        "  \n",
        "  # Initialize reader\n",
        "  reader = csv.reader(csvfile, delimiter=',')\n",
        "  \n",
        "  # Skip the first line\n",
        "  next(reader)\n",
        "  \n",
        "  # Append row and sunspot number to lists\n",
        "  for row in reader:\n",
        "    time_step.append(int(row[0]))\n",
        "    sunspots.append(float(row[2]))\n",
        "\n",
        "# Convert lists to numpy arrays\n",
        "time = np.array(time_step)\n",
        "series = np.array(sunspots)\n",
        "\n",
        "# Preview the data\n",
        "plot_series(time, series, xlabel='Month', ylabel='Monthly Mean Total Sunspot Number')"
      ]
    },
    {
      "cell_type": "markdown",
      "metadata": {
        "id": "EUQE9RRoazC5"
      },
      "source": [
        "## Split the Dataset\n",
        "\n",
        "Next, you will split the dataset into training and validation sets. There are 3235 points in the dataset and you will use the first 3000 for training."
      ]
    },
    {
      "cell_type": "code",
      "execution_count": 6,
      "metadata": {
        "id": "L92YRw_IpCFG"
      },
      "outputs": [],
      "source": [
        "# Define the split time\n",
        "split_time = 3000\n",
        "\n",
        "# Get the train set \n",
        "time_train = time[:split_time]\n",
        "x_train = series[:split_time]\n",
        "\n",
        "# Get the validation set\n",
        "time_valid = time[split_time:]\n",
        "x_valid = series[split_time:]"
      ]
    },
    {
      "cell_type": "markdown",
      "metadata": {
        "id": "RbuIOrb3a093"
      },
      "source": [
        "## Prepare Features and Labels\n",
        "\n",
        "You can then prepare the dataset windows as before. The window size is set to 30 points (equal to 2.5 years) but feel free to change later on if you want to experiment."
      ]
    },
    {
      "cell_type": "code",
      "execution_count": 7,
      "metadata": {
        "id": "lJwUUZscnG38"
      },
      "outputs": [],
      "source": [
        "def windowed_dataset(series, window_size, batch_size, shuffle_buffer):\n",
        "    \"\"\"Generates dataset windows\n",
        "\n",
        "    Args:\n",
        "      series (array of float) - contains the values of the time series\n",
        "      window_size (int) - the number of time steps to include in the feature\n",
        "      batch_size (int) - the batch size\n",
        "      shuffle_buffer(int) - buffer size to use for the shuffle method\n",
        "\n",
        "    Returns:\n",
        "      dataset (TF Dataset) - TF Dataset containing time windows\n",
        "    \"\"\"\n",
        "  \n",
        "    # Generate a TF Dataset from the series values\n",
        "    dataset = tf.data.Dataset.from_tensor_slices(series)\n",
        "    \n",
        "    # Window the data but only take those with the specified size\n",
        "    dataset = dataset.window(window_size + 1, shift=1, drop_remainder=True)\n",
        "    \n",
        "    # Flatten the windows by putting its elements in a single batch\n",
        "    dataset = dataset.flat_map(lambda window: window.batch(window_size + 1))\n",
        "\n",
        "    # Create tuples with features and labels \n",
        "    dataset = dataset.map(lambda window: (window[:-1], window[-1]))\n",
        "\n",
        "    # Shuffle the windows\n",
        "    dataset = dataset.shuffle(shuffle_buffer)\n",
        "    \n",
        "    # Create batches of windows\n",
        "    dataset = dataset.batch(batch_size).prefetch(1)\n",
        "    \n",
        "    return dataset"
      ]
    },
    {
      "cell_type": "code",
      "execution_count": 8,
      "metadata": {
        "id": "9g5zSxZwZQt_"
      },
      "outputs": [],
      "source": [
        "# Parameters\n",
        "window_size = 30\n",
        "batch_size = 32\n",
        "shuffle_buffer_size = 1000\n",
        "\n",
        "# Generate the dataset windows\n",
        "train_set = windowed_dataset(x_train, window_size, batch_size, shuffle_buffer_size)"
      ]
    },
    {
      "cell_type": "markdown",
      "metadata": {
        "id": "_Lhpi42ta5yP"
      },
      "source": [
        "## Build the Model\n",
        "\n",
        "The model will be 3-layer dense network as shown below."
      ]
    },
    {
      "cell_type": "code",
      "execution_count": 9,
      "metadata": {
        "id": "AclfYY3Mn6Ph",
        "colab": {
          "base_uri": "https://localhost:8080/"
        },
        "outputId": "d7337b61-7a4b-41e0-e9cc-45bf0a1abc46"
      },
      "outputs": [
        {
          "output_type": "stream",
          "name": "stdout",
          "text": [
            "Model: \"sequential\"\n",
            "_________________________________________________________________\n",
            " Layer (type)                Output Shape              Param #   \n",
            "=================================================================\n",
            " dense (Dense)               (None, 30)                930       \n",
            "                                                                 \n",
            " dense_1 (Dense)             (None, 10)                310       \n",
            "                                                                 \n",
            " dense_2 (Dense)             (None, 1)                 11        \n",
            "                                                                 \n",
            "=================================================================\n",
            "Total params: 1,251\n",
            "Trainable params: 1,251\n",
            "Non-trainable params: 0\n",
            "_________________________________________________________________\n"
          ]
        }
      ],
      "source": [
        "# Build the model\n",
        "model = tf.keras.models.Sequential([\n",
        "    tf.keras.layers.Dense(30, input_shape=[window_size], activation=\"relu\"), \n",
        "    tf.keras.layers.Dense(10, activation=\"relu\"),\n",
        "    tf.keras.layers.Dense(1)\n",
        "])\n",
        "\n",
        "# Print the model summary\n",
        "model.summary()"
      ]
    },
    {
      "cell_type": "markdown",
      "metadata": {
        "id": "uyT14hQOa97V"
      },
      "source": [
        "## Tune the Learning Rate\n",
        "\n",
        "You can pick a learning rate by running the same learning rate scheduler code from previous labs."
      ]
    },
    {
      "cell_type": "code",
      "execution_count": 10,
      "metadata": {
        "id": "GXiqsZQ1y4nD",
        "colab": {
          "base_uri": "https://localhost:8080/"
        },
        "outputId": "05acd350-bb14-417d-f90b-e921b9273305"
      },
      "outputs": [
        {
          "output_type": "stream",
          "name": "stdout",
          "text": [
            "Epoch 1/100\n",
            "93/93 [==============================] - 3s 19ms/step - loss: 283.2204 - lr: 1.0000e-08\n",
            "Epoch 2/100\n",
            "93/93 [==============================] - 1s 11ms/step - loss: 277.9596 - lr: 1.1220e-08\n",
            "Epoch 3/100\n",
            "93/93 [==============================] - 1s 12ms/step - loss: 272.0623 - lr: 1.2589e-08\n",
            "Epoch 4/100\n",
            "93/93 [==============================] - 1s 10ms/step - loss: 265.5264 - lr: 1.4125e-08\n",
            "Epoch 5/100\n",
            "93/93 [==============================] - 1s 10ms/step - loss: 258.2767 - lr: 1.5849e-08\n",
            "Epoch 6/100\n",
            "93/93 [==============================] - 1s 10ms/step - loss: 250.2441 - lr: 1.7783e-08\n",
            "Epoch 7/100\n",
            "93/93 [==============================] - 1s 12ms/step - loss: 241.3582 - lr: 1.9953e-08\n",
            "Epoch 8/100\n",
            "93/93 [==============================] - 1s 11ms/step - loss: 231.5442 - lr: 2.2387e-08\n",
            "Epoch 9/100\n",
            "93/93 [==============================] - 1s 11ms/step - loss: 220.7146 - lr: 2.5119e-08\n",
            "Epoch 10/100\n",
            "93/93 [==============================] - 1s 5ms/step - loss: 208.7604 - lr: 2.8184e-08\n",
            "Epoch 11/100\n",
            "93/93 [==============================] - 1s 5ms/step - loss: 195.5922 - lr: 3.1623e-08\n",
            "Epoch 12/100\n",
            "93/93 [==============================] - 1s 5ms/step - loss: 181.1257 - lr: 3.5481e-08\n",
            "Epoch 13/100\n",
            "93/93 [==============================] - 1s 4ms/step - loss: 165.2675 - lr: 3.9811e-08\n",
            "Epoch 14/100\n",
            "93/93 [==============================] - 1s 5ms/step - loss: 147.9579 - lr: 4.4668e-08\n",
            "Epoch 15/100\n",
            "93/93 [==============================] - 1s 5ms/step - loss: 129.3458 - lr: 5.0119e-08\n",
            "Epoch 16/100\n",
            "93/93 [==============================] - 1s 5ms/step - loss: 110.2447 - lr: 5.6234e-08\n",
            "Epoch 17/100\n",
            "93/93 [==============================] - 1s 4ms/step - loss: 91.9006 - lr: 6.3096e-08\n",
            "Epoch 18/100\n",
            "93/93 [==============================] - 1s 4ms/step - loss: 76.4519 - lr: 7.0795e-08\n",
            "Epoch 19/100\n",
            "93/93 [==============================] - 1s 4ms/step - loss: 65.7023 - lr: 7.9433e-08\n",
            "Epoch 20/100\n",
            "93/93 [==============================] - 1s 5ms/step - loss: 59.2706 - lr: 8.9125e-08\n",
            "Epoch 21/100\n",
            "93/93 [==============================] - 1s 6ms/step - loss: 55.8592 - lr: 1.0000e-07\n",
            "Epoch 22/100\n",
            "93/93 [==============================] - 1s 5ms/step - loss: 53.7288 - lr: 1.1220e-07\n",
            "Epoch 23/100\n",
            "93/93 [==============================] - 1s 5ms/step - loss: 52.0239 - lr: 1.2589e-07\n",
            "Epoch 24/100\n",
            "93/93 [==============================] - 1s 5ms/step - loss: 50.4188 - lr: 1.4125e-07\n",
            "Epoch 25/100\n",
            "93/93 [==============================] - 1s 5ms/step - loss: 48.7816 - lr: 1.5849e-07\n",
            "Epoch 26/100\n",
            "93/93 [==============================] - 1s 5ms/step - loss: 47.0827 - lr: 1.7783e-07\n",
            "Epoch 27/100\n",
            "93/93 [==============================] - 1s 5ms/step - loss: 45.2887 - lr: 1.9953e-07\n",
            "Epoch 28/100\n",
            "93/93 [==============================] - 1s 5ms/step - loss: 43.4330 - lr: 2.2387e-07\n",
            "Epoch 29/100\n",
            "93/93 [==============================] - 1s 6ms/step - loss: 41.5107 - lr: 2.5119e-07\n",
            "Epoch 30/100\n",
            "93/93 [==============================] - 1s 4ms/step - loss: 39.5801 - lr: 2.8184e-07\n",
            "Epoch 31/100\n",
            "93/93 [==============================] - 1s 5ms/step - loss: 37.6321 - lr: 3.1623e-07\n",
            "Epoch 32/100\n",
            "93/93 [==============================] - 1s 5ms/step - loss: 35.7013 - lr: 3.5481e-07\n",
            "Epoch 33/100\n",
            "93/93 [==============================] - 1s 5ms/step - loss: 33.7933 - lr: 3.9811e-07\n",
            "Epoch 34/100\n",
            "93/93 [==============================] - 1s 6ms/step - loss: 31.9213 - lr: 4.4668e-07\n",
            "Epoch 35/100\n",
            "93/93 [==============================] - 1s 5ms/step - loss: 30.1996 - lr: 5.0119e-07\n",
            "Epoch 36/100\n",
            "93/93 [==============================] - 1s 4ms/step - loss: 28.7401 - lr: 5.6234e-07\n",
            "Epoch 37/100\n",
            "93/93 [==============================] - 1s 5ms/step - loss: 27.4290 - lr: 6.3096e-07\n",
            "Epoch 38/100\n",
            "93/93 [==============================] - 1s 5ms/step - loss: 26.4076 - lr: 7.0795e-07\n",
            "Epoch 39/100\n",
            "93/93 [==============================] - 1s 5ms/step - loss: 25.6244 - lr: 7.9433e-07\n",
            "Epoch 40/100\n",
            "93/93 [==============================] - 1s 6ms/step - loss: 25.0412 - lr: 8.9125e-07\n",
            "Epoch 41/100\n",
            "93/93 [==============================] - 1s 5ms/step - loss: 24.4999 - lr: 1.0000e-06\n",
            "Epoch 42/100\n",
            "93/93 [==============================] - 1s 4ms/step - loss: 24.0330 - lr: 1.1220e-06\n",
            "Epoch 43/100\n",
            "93/93 [==============================] - 1s 5ms/step - loss: 23.6101 - lr: 1.2589e-06\n",
            "Epoch 44/100\n",
            "93/93 [==============================] - 1s 5ms/step - loss: 23.2080 - lr: 1.4125e-06\n",
            "Epoch 45/100\n",
            "93/93 [==============================] - 1s 5ms/step - loss: 22.7442 - lr: 1.5849e-06\n",
            "Epoch 46/100\n",
            "93/93 [==============================] - 1s 6ms/step - loss: 22.3244 - lr: 1.7783e-06\n",
            "Epoch 47/100\n",
            "93/93 [==============================] - 1s 6ms/step - loss: 21.8506 - lr: 1.9953e-06\n",
            "Epoch 48/100\n",
            "93/93 [==============================] - 1s 6ms/step - loss: 21.5637 - lr: 2.2387e-06\n",
            "Epoch 49/100\n",
            "93/93 [==============================] - 1s 5ms/step - loss: 21.2102 - lr: 2.5119e-06\n",
            "Epoch 50/100\n",
            "93/93 [==============================] - 1s 4ms/step - loss: 20.8342 - lr: 2.8184e-06\n",
            "Epoch 51/100\n",
            "93/93 [==============================] - 1s 6ms/step - loss: 20.3417 - lr: 3.1623e-06\n",
            "Epoch 52/100\n",
            "93/93 [==============================] - 1s 6ms/step - loss: 19.9740 - lr: 3.5481e-06\n",
            "Epoch 53/100\n",
            "93/93 [==============================] - 1s 5ms/step - loss: 19.8004 - lr: 3.9811e-06\n",
            "Epoch 54/100\n",
            "93/93 [==============================] - 1s 4ms/step - loss: 19.3941 - lr: 4.4668e-06\n",
            "Epoch 55/100\n",
            "93/93 [==============================] - 1s 5ms/step - loss: 19.2650 - lr: 5.0119e-06\n",
            "Epoch 56/100\n",
            "93/93 [==============================] - 1s 6ms/step - loss: 19.1432 - lr: 5.6234e-06\n",
            "Epoch 57/100\n",
            "93/93 [==============================] - 1s 5ms/step - loss: 18.7523 - lr: 6.3096e-06\n",
            "Epoch 58/100\n",
            "93/93 [==============================] - 1s 6ms/step - loss: 18.5781 - lr: 7.0795e-06\n",
            "Epoch 59/100\n",
            "93/93 [==============================] - 1s 5ms/step - loss: 18.4205 - lr: 7.9433e-06\n",
            "Epoch 60/100\n",
            "93/93 [==============================] - 1s 4ms/step - loss: 18.2118 - lr: 8.9125e-06\n",
            "Epoch 61/100\n",
            "93/93 [==============================] - 1s 6ms/step - loss: 18.1485 - lr: 1.0000e-05\n",
            "Epoch 62/100\n",
            "93/93 [==============================] - 1s 5ms/step - loss: 17.9780 - lr: 1.1220e-05\n",
            "Epoch 63/100\n",
            "93/93 [==============================] - 1s 5ms/step - loss: 17.8181 - lr: 1.2589e-05\n",
            "Epoch 64/100\n",
            "93/93 [==============================] - 1s 6ms/step - loss: 17.9984 - lr: 1.4125e-05\n",
            "Epoch 65/100\n",
            "93/93 [==============================] - 1s 5ms/step - loss: 18.2106 - lr: 1.5849e-05\n",
            "Epoch 66/100\n",
            "93/93 [==============================] - 1s 6ms/step - loss: 17.7637 - lr: 1.7783e-05\n",
            "Epoch 67/100\n",
            "93/93 [==============================] - 1s 6ms/step - loss: 17.8008 - lr: 1.9953e-05\n",
            "Epoch 68/100\n",
            "93/93 [==============================] - 1s 4ms/step - loss: 18.1005 - lr: 2.2387e-05\n",
            "Epoch 69/100\n",
            "93/93 [==============================] - 1s 5ms/step - loss: 17.9779 - lr: 2.5119e-05\n",
            "Epoch 70/100\n",
            "93/93 [==============================] - 1s 4ms/step - loss: 18.2841 - lr: 2.8184e-05\n",
            "Epoch 71/100\n",
            "93/93 [==============================] - 1s 5ms/step - loss: 18.0711 - lr: 3.1623e-05\n",
            "Epoch 72/100\n",
            "93/93 [==============================] - 1s 4ms/step - loss: 17.9901 - lr: 3.5481e-05\n",
            "Epoch 73/100\n",
            "93/93 [==============================] - 1s 5ms/step - loss: 18.0868 - lr: 3.9811e-05\n",
            "Epoch 74/100\n",
            "93/93 [==============================] - 1s 5ms/step - loss: 18.3727 - lr: 4.4668e-05\n",
            "Epoch 75/100\n",
            "93/93 [==============================] - 1s 5ms/step - loss: 18.5130 - lr: 5.0119e-05\n",
            "Epoch 76/100\n",
            "93/93 [==============================] - 1s 5ms/step - loss: 18.0500 - lr: 5.6234e-05\n",
            "Epoch 77/100\n",
            "93/93 [==============================] - 1s 5ms/step - loss: 17.4523 - lr: 6.3096e-05\n",
            "Epoch 78/100\n",
            "93/93 [==============================] - 1s 5ms/step - loss: 18.7614 - lr: 7.0795e-05\n",
            "Epoch 79/100\n",
            "93/93 [==============================] - 1s 5ms/step - loss: 19.2194 - lr: 7.9433e-05\n",
            "Epoch 80/100\n",
            "93/93 [==============================] - 1s 5ms/step - loss: 17.9722 - lr: 8.9125e-05\n",
            "Epoch 81/100\n",
            "93/93 [==============================] - 1s 5ms/step - loss: 18.5096 - lr: 1.0000e-04\n",
            "Epoch 82/100\n",
            "93/93 [==============================] - 1s 5ms/step - loss: 18.3170 - lr: 1.1220e-04\n",
            "Epoch 83/100\n",
            "93/93 [==============================] - 1s 5ms/step - loss: 18.4438 - lr: 1.2589e-04\n",
            "Epoch 84/100\n",
            "93/93 [==============================] - 1s 5ms/step - loss: 17.8118 - lr: 1.4125e-04\n",
            "Epoch 85/100\n",
            "93/93 [==============================] - 1s 4ms/step - loss: 18.1676 - lr: 1.5849e-04\n",
            "Epoch 86/100\n",
            "93/93 [==============================] - 1s 5ms/step - loss: 18.2655 - lr: 1.7783e-04\n",
            "Epoch 87/100\n",
            "93/93 [==============================] - 1s 5ms/step - loss: 17.7660 - lr: 1.9953e-04\n",
            "Epoch 88/100\n",
            "93/93 [==============================] - 1s 5ms/step - loss: 19.4493 - lr: 2.2387e-04\n",
            "Epoch 89/100\n",
            "93/93 [==============================] - 1s 6ms/step - loss: 20.1015 - lr: 2.5119e-04\n",
            "Epoch 90/100\n",
            "93/93 [==============================] - 1s 5ms/step - loss: 19.8447 - lr: 2.8184e-04\n",
            "Epoch 91/100\n",
            "93/93 [==============================] - 1s 5ms/step - loss: 19.1568 - lr: 3.1623e-04\n",
            "Epoch 92/100\n",
            "93/93 [==============================] - 1s 5ms/step - loss: 19.3369 - lr: 3.5481e-04\n",
            "Epoch 93/100\n",
            "93/93 [==============================] - 1s 6ms/step - loss: 20.6688 - lr: 3.9811e-04\n",
            "Epoch 94/100\n",
            "93/93 [==============================] - 1s 6ms/step - loss: 18.8204 - lr: 4.4668e-04\n",
            "Epoch 95/100\n",
            "93/93 [==============================] - 1s 6ms/step - loss: 22.4296 - lr: 5.0119e-04\n",
            "Epoch 96/100\n",
            "93/93 [==============================] - 1s 5ms/step - loss: 21.5386 - lr: 5.6234e-04\n",
            "Epoch 97/100\n",
            "93/93 [==============================] - 1s 5ms/step - loss: 26.7240 - lr: 6.3096e-04\n",
            "Epoch 98/100\n",
            "93/93 [==============================] - 1s 5ms/step - loss: 22.5347 - lr: 7.0795e-04\n",
            "Epoch 99/100\n",
            "93/93 [==============================] - 1s 6ms/step - loss: 21.6750 - lr: 7.9433e-04\n",
            "Epoch 100/100\n",
            "93/93 [==============================] - 1s 5ms/step - loss: 34.5389 - lr: 8.9125e-04\n"
          ]
        }
      ],
      "source": [
        "# Set the learning rate scheduler\n",
        "lr_schedule = tf.keras.callbacks.LearningRateScheduler(\n",
        "    lambda epoch: 1e-8 * 10**(epoch / 20))\n",
        "\n",
        "# Initialize the optimizer\n",
        "optimizer = tf.keras.optimizers.SGD(momentum=0.9)\n",
        "\n",
        "# Set the training parameters\n",
        "model.compile(loss=tf.keras.losses.Huber(), optimizer=optimizer)\n",
        "\n",
        "# Train the model\n",
        "history = model.fit(train_set, epochs=100, callbacks=[lr_schedule])"
      ]
    },
    {
      "cell_type": "code",
      "execution_count": 11,
      "metadata": {
        "id": "xJFAB1NTzGJV",
        "colab": {
          "base_uri": "https://localhost:8080/",
          "height": 406
        },
        "outputId": "9799f5b8-6d15-42bb-9da9-5863d98d766a"
      },
      "outputs": [
        {
          "output_type": "execute_result",
          "data": {
            "text/plain": [
              "(1e-08, 0.001, 0.0, 100.0)"
            ]
          },
          "metadata": {},
          "execution_count": 11
        },
        {
          "output_type": "display_data",
          "data": {
            "text/plain": [
              "<Figure size 720x432 with 1 Axes>"
            ],
            "image/png": "[encoded data removed]"
          },
          "metadata": {
            "needs_background": "light"
          }
        }
      ],
      "source": [
        "# Define the learning rate array\n",
        "lrs = 1e-8 * (10 ** (np.arange(100) / 20))\n",
        "\n",
        "# Set the figure size\n",
        "plt.figure(figsize=(10, 6))\n",
        "\n",
        "# Set the grid\n",
        "plt.grid(True)\n",
        "\n",
        "# Plot the loss in log scale\n",
        "plt.semilogx(lrs, history.history[\"loss\"])\n",
        "\n",
        "# Increase the tickmarks size\n",
        "plt.tick_params('both', length=10, width=1, which='both')\n",
        "\n",
        "# Set the plot boundaries\n",
        "plt.axis([1e-8, 1e-3, 0, 100])"
      ]
    },
    {
      "cell_type": "markdown",
      "metadata": {
        "id": "oY4mnUpNbFdc"
      },
      "source": [
        "## Train the Model\n",
        "\n",
        "Once you've picked a learning rate, you can rebuild the model and start training."
      ]
    },
    {
      "cell_type": "code",
      "execution_count": 12,
      "metadata": {
        "id": "Ngna3zR4znJd"
      },
      "outputs": [],
      "source": [
        "# Reset states generated by Keras\n",
        "tf.keras.backend.clear_session()\n",
        "\n",
        "# Build the Model\n",
        "model = tf.keras.models.Sequential([\n",
        "    tf.keras.layers.Dense(30, input_shape=[window_size], activation=\"relu\"), \n",
        "    tf.keras.layers.Dense(10, activation=\"relu\"),\n",
        "    tf.keras.layers.Dense(1)\n",
        "])"
      ]
    },
    {
      "cell_type": "code",
      "execution_count": 13,
      "metadata": {
        "id": "7FKXvEYxzuoc",
        "colab": {
          "base_uri": "https://localhost:8080/"
        },
        "outputId": "1ce0d7f9-eaf9-442f-f94d-8ea2a9329a4d"
      },
      "outputs": [
        {
          "output_type": "stream",
          "name": "stdout",
          "text": [
            "Epoch 1/100\n",
            "93/93 [==============================] - 1s 5ms/step - loss: 46.2978 - mae: 46.7934\n",
            "Epoch 2/100\n",
            "93/93 [==============================] - 1s 5ms/step - loss: 21.0842 - mae: 21.5771\n",
            "Epoch 3/100\n",
            "93/93 [==============================] - 1s 6ms/step - loss: 20.2429 - mae: 20.7358\n",
            "Epoch 4/100\n",
            "93/93 [==============================] - 1s 6ms/step - loss: 19.6381 - mae: 20.1300\n",
            "Epoch 5/100\n",
            "93/93 [==============================] - 1s 5ms/step - loss: 19.0319 - mae: 19.5220\n",
            "Epoch 6/100\n",
            "93/93 [==============================] - 1s 6ms/step - loss: 19.0373 - mae: 19.5303\n",
            "Epoch 7/100\n",
            "93/93 [==============================] - 1s 4ms/step - loss: 18.4952 - mae: 18.9867\n",
            "Epoch 8/100\n",
            "93/93 [==============================] - 1s 5ms/step - loss: 18.4878 - mae: 18.9787\n",
            "Epoch 9/100\n",
            "93/93 [==============================] - 1s 4ms/step - loss: 18.1863 - mae: 18.6777\n",
            "Epoch 10/100\n",
            "93/93 [==============================] - 1s 4ms/step - loss: 17.9264 - mae: 18.4180\n",
            "Epoch 11/100\n",
            "93/93 [==============================] - 1s 5ms/step - loss: 17.8861 - mae: 18.3773\n",
            "Epoch 12/100\n",
            "93/93 [==============================] - 1s 5ms/step - loss: 17.7548 - mae: 18.2461\n",
            "Epoch 13/100\n",
            "93/93 [==============================] - 1s 5ms/step - loss: 17.7553 - mae: 18.2469\n",
            "Epoch 14/100\n",
            "93/93 [==============================] - 1s 5ms/step - loss: 17.8249 - mae: 18.3166\n",
            "Epoch 15/100\n",
            "93/93 [==============================] - 1s 6ms/step - loss: 17.9501 - mae: 18.4399\n",
            "Epoch 16/100\n",
            "93/93 [==============================] - 1s 5ms/step - loss: 17.7072 - mae: 18.1975\n",
            "Epoch 17/100\n",
            "93/93 [==============================] - 1s 5ms/step - loss: 17.5670 - mae: 18.0579\n",
            "Epoch 18/100\n",
            "93/93 [==============================] - 1s 5ms/step - loss: 17.4306 - mae: 17.9212\n",
            "Epoch 19/100\n",
            "93/93 [==============================] - 1s 6ms/step - loss: 17.3929 - mae: 17.8836\n",
            "Epoch 20/100\n",
            "93/93 [==============================] - 1s 5ms/step - loss: 17.2796 - mae: 17.7704\n",
            "Epoch 21/100\n",
            "93/93 [==============================] - 1s 5ms/step - loss: 17.2662 - mae: 17.7562\n",
            "Epoch 22/100\n",
            "93/93 [==============================] - 1s 5ms/step - loss: 17.3372 - mae: 17.8279\n",
            "Epoch 23/100\n",
            "93/93 [==============================] - 1s 5ms/step - loss: 17.1348 - mae: 17.6237\n",
            "Epoch 24/100\n",
            "93/93 [==============================] - 1s 5ms/step - loss: 17.4113 - mae: 17.9024\n",
            "Epoch 25/100\n",
            "93/93 [==============================] - 1s 6ms/step - loss: 17.1423 - mae: 17.6327\n",
            "Epoch 26/100\n",
            "93/93 [==============================] - 1s 6ms/step - loss: 17.1677 - mae: 17.6581\n",
            "Epoch 27/100\n",
            "93/93 [==============================] - 1s 6ms/step - loss: 17.1620 - mae: 17.6530\n",
            "Epoch 28/100\n",
            "93/93 [==============================] - 1s 5ms/step - loss: 17.2074 - mae: 17.6977\n",
            "Epoch 29/100\n",
            "93/93 [==============================] - 1s 5ms/step - loss: 17.1067 - mae: 17.5962\n",
            "Epoch 30/100\n",
            "93/93 [==============================] - 1s 11ms/step - loss: 17.2248 - mae: 17.7155\n",
            "Epoch 31/100\n",
            "93/93 [==============================] - 1s 5ms/step - loss: 17.1146 - mae: 17.6053\n",
            "Epoch 32/100\n",
            "93/93 [==============================] - 1s 5ms/step - loss: 17.1767 - mae: 17.6682\n",
            "Epoch 33/100\n",
            "93/93 [==============================] - 1s 5ms/step - loss: 17.2643 - mae: 17.7550\n",
            "Epoch 34/100\n",
            "93/93 [==============================] - 1s 6ms/step - loss: 17.1159 - mae: 17.6075\n",
            "Epoch 35/100\n",
            "93/93 [==============================] - 1s 5ms/step - loss: 17.0945 - mae: 17.5854\n",
            "Epoch 36/100\n",
            "93/93 [==============================] - 1s 5ms/step - loss: 17.2642 - mae: 17.7553\n",
            "Epoch 37/100\n",
            "93/93 [==============================] - 1s 5ms/step - loss: 17.1175 - mae: 17.6094\n",
            "Epoch 38/100\n",
            "93/93 [==============================] - 1s 5ms/step - loss: 16.9880 - mae: 17.4792\n",
            "Epoch 39/100\n",
            "93/93 [==============================] - 1s 5ms/step - loss: 17.0818 - mae: 17.5729\n",
            "Epoch 40/100\n",
            "93/93 [==============================] - 1s 6ms/step - loss: 17.0273 - mae: 17.5200\n",
            "Epoch 41/100\n",
            "93/93 [==============================] - 1s 6ms/step - loss: 17.1225 - mae: 17.6133\n",
            "Epoch 42/100\n",
            "93/93 [==============================] - 1s 5ms/step - loss: 17.0478 - mae: 17.5390\n",
            "Epoch 43/100\n",
            "93/93 [==============================] - 1s 5ms/step - loss: 16.9299 - mae: 17.4205\n",
            "Epoch 44/100\n",
            "93/93 [==============================] - 1s 4ms/step - loss: 17.1886 - mae: 17.6788\n",
            "Epoch 45/100\n",
            "93/93 [==============================] - 1s 4ms/step - loss: 17.3152 - mae: 17.8069\n",
            "Epoch 46/100\n",
            "93/93 [==============================] - 1s 4ms/step - loss: 17.0068 - mae: 17.4969\n",
            "Epoch 47/100\n",
            "93/93 [==============================] - 1s 6ms/step - loss: 16.8801 - mae: 17.3712\n",
            "Epoch 48/100\n",
            "93/93 [==============================] - 1s 6ms/step - loss: 17.1025 - mae: 17.5923\n",
            "Epoch 49/100\n",
            "93/93 [==============================] - 1s 5ms/step - loss: 16.9282 - mae: 17.4184\n",
            "Epoch 50/100\n",
            "93/93 [==============================] - 1s 5ms/step - loss: 16.9863 - mae: 17.4780\n",
            "Epoch 51/100\n",
            "93/93 [==============================] - 1s 6ms/step - loss: 16.9603 - mae: 17.4510\n",
            "Epoch 52/100\n",
            "93/93 [==============================] - 1s 6ms/step - loss: 17.0636 - mae: 17.5549\n",
            "Epoch 53/100\n",
            "93/93 [==============================] - 1s 5ms/step - loss: 17.0937 - mae: 17.5821\n",
            "Epoch 54/100\n",
            "93/93 [==============================] - 1s 5ms/step - loss: 17.0660 - mae: 17.5579\n",
            "Epoch 55/100\n",
            "93/93 [==============================] - 1s 5ms/step - loss: 17.0197 - mae: 17.5105\n",
            "Epoch 56/100\n",
            "93/93 [==============================] - 1s 6ms/step - loss: 17.0831 - mae: 17.5729\n",
            "Epoch 57/100\n",
            "93/93 [==============================] - 1s 5ms/step - loss: 16.9509 - mae: 17.4410\n",
            "Epoch 58/100\n",
            "93/93 [==============================] - 1s 5ms/step - loss: 16.9931 - mae: 17.4847\n",
            "Epoch 59/100\n",
            "93/93 [==============================] - 1s 5ms/step - loss: 17.3229 - mae: 17.8152\n",
            "Epoch 60/100\n",
            "93/93 [==============================] - 1s 5ms/step - loss: 17.0056 - mae: 17.4959\n",
            "Epoch 61/100\n",
            "93/93 [==============================] - 1s 5ms/step - loss: 16.9966 - mae: 17.4884\n",
            "Epoch 62/100\n",
            "93/93 [==============================] - 1s 4ms/step - loss: 16.8855 - mae: 17.3757\n",
            "Epoch 63/100\n",
            "93/93 [==============================] - 1s 6ms/step - loss: 16.9834 - mae: 17.4760\n",
            "Epoch 64/100\n",
            "93/93 [==============================] - 1s 5ms/step - loss: 16.9035 - mae: 17.3942\n",
            "Epoch 65/100\n",
            "93/93 [==============================] - 1s 5ms/step - loss: 16.9938 - mae: 17.4829\n",
            "Epoch 66/100\n",
            "93/93 [==============================] - 1s 5ms/step - loss: 16.8804 - mae: 17.3712\n",
            "Epoch 67/100\n",
            "93/93 [==============================] - 1s 6ms/step - loss: 16.8485 - mae: 17.3398\n",
            "Epoch 68/100\n",
            "93/93 [==============================] - 1s 4ms/step - loss: 16.8763 - mae: 17.3674\n",
            "Epoch 69/100\n",
            "93/93 [==============================] - 1s 5ms/step - loss: 16.8123 - mae: 17.3032\n",
            "Epoch 70/100\n",
            "93/93 [==============================] - 1s 5ms/step - loss: 16.8443 - mae: 17.3361\n",
            "Epoch 71/100\n",
            "93/93 [==============================] - 1s 5ms/step - loss: 16.9274 - mae: 17.4180\n",
            "Epoch 72/100\n",
            "93/93 [==============================] - 1s 6ms/step - loss: 16.8583 - mae: 17.3495\n",
            "Epoch 73/100\n",
            "93/93 [==============================] - 1s 5ms/step - loss: 16.9438 - mae: 17.4341\n",
            "Epoch 74/100\n",
            "93/93 [==============================] - 1s 5ms/step - loss: 16.8306 - mae: 17.3208\n",
            "Epoch 75/100\n",
            "93/93 [==============================] - 1s 5ms/step - loss: 17.1590 - mae: 17.6488\n",
            "Epoch 76/100\n",
            "93/93 [==============================] - 1s 5ms/step - loss: 16.8225 - mae: 17.3130\n",
            "Epoch 77/100\n",
            "93/93 [==============================] - 1s 5ms/step - loss: 16.7271 - mae: 17.2178\n",
            "Epoch 78/100\n",
            "93/93 [==============================] - 1s 5ms/step - loss: 16.7977 - mae: 17.2891\n",
            "Epoch 79/100\n",
            "93/93 [==============================] - 1s 5ms/step - loss: 17.1447 - mae: 17.6361\n",
            "Epoch 80/100\n",
            "93/93 [==============================] - 1s 5ms/step - loss: 16.7749 - mae: 17.2651\n",
            "Epoch 81/100\n",
            "93/93 [==============================] - 1s 5ms/step - loss: 16.8830 - mae: 17.3732\n",
            "Epoch 82/100\n",
            "93/93 [==============================] - 1s 6ms/step - loss: 16.9797 - mae: 17.4704\n",
            "Epoch 83/100\n",
            "93/93 [==============================] - 1s 5ms/step - loss: 16.8729 - mae: 17.3647\n",
            "Epoch 84/100\n",
            "93/93 [==============================] - 1s 5ms/step - loss: 16.7988 - mae: 17.2890\n",
            "Epoch 85/100\n",
            "93/93 [==============================] - 1s 5ms/step - loss: 16.8927 - mae: 17.3831\n",
            "Epoch 86/100\n",
            "93/93 [==============================] - 1s 5ms/step - loss: 16.9130 - mae: 17.4045\n",
            "Epoch 87/100\n",
            "93/93 [==============================] - 1s 6ms/step - loss: 16.8750 - mae: 17.3660\n",
            "Epoch 88/100\n",
            "93/93 [==============================] - 1s 5ms/step - loss: 16.8451 - mae: 17.3363\n",
            "Epoch 89/100\n",
            "93/93 [==============================] - 1s 5ms/step - loss: 16.8326 - mae: 17.3236\n",
            "Epoch 90/100\n",
            "93/93 [==============================] - 1s 5ms/step - loss: 16.8836 - mae: 17.3717\n",
            "Epoch 91/100\n",
            "93/93 [==============================] - 1s 5ms/step - loss: 16.8870 - mae: 17.3771\n",
            "Epoch 92/100\n",
            "93/93 [==============================] - 1s 6ms/step - loss: 16.7815 - mae: 17.2721\n",
            "Epoch 93/100\n",
            "93/93 [==============================] - 1s 5ms/step - loss: 16.7710 - mae: 17.2620\n",
            "Epoch 94/100\n",
            "93/93 [==============================] - 1s 5ms/step - loss: 16.8493 - mae: 17.3396\n",
            "Epoch 95/100\n",
            "93/93 [==============================] - 1s 5ms/step - loss: 16.7985 - mae: 17.2898\n",
            "Epoch 96/100\n",
            "93/93 [==============================] - 1s 6ms/step - loss: 16.8711 - mae: 17.3614\n",
            "Epoch 97/100\n",
            "93/93 [==============================] - 1s 6ms/step - loss: 16.8608 - mae: 17.3500\n",
            "Epoch 98/100\n",
            "93/93 [==============================] - 1s 5ms/step - loss: 17.0254 - mae: 17.5173\n",
            "Epoch 99/100\n",
            "93/93 [==============================] - 1s 5ms/step - loss: 16.7956 - mae: 17.2854\n",
            "Epoch 100/100\n",
            "93/93 [==============================] - 1s 6ms/step - loss: 16.8700 - mae: 17.3611\n"
          ]
        }
      ],
      "source": [
        "# Set the learning rate\n",
        "learning_rate = 2e-5\n",
        "\n",
        "# Set the optimizer \n",
        "optimizer = tf.keras.optimizers.SGD(learning_rate=learning_rate, momentum=0.9)\n",
        "\n",
        "# Set the training parameters\n",
        "model.compile(loss=tf.keras.losses.Huber(),\n",
        "              optimizer=optimizer,\n",
        "              metrics=[\"mae\"])\n",
        "\n",
        "# Train the model\n",
        "history = model.fit(train_set,epochs=100)"
      ]
    },
    {
      "cell_type": "markdown",
      "metadata": {
        "id": "b1iV2t8ibIka"
      },
      "source": [
        "## Model Prediction\n",
        "\n",
        "Now see if the model generates good results. If you used the default parameters of this notebook, you should see the predictions follow the shape of the ground truth with an MAE of around 15. "
      ]
    },
    {
      "cell_type": "code",
      "execution_count": 14,
      "metadata": {
        "id": "djn06Tri2B6_"
      },
      "outputs": [],
      "source": [
        "def model_forecast(model, series, window_size, batch_size):\n",
        "    \"\"\"Uses an input model to generate predictions on data windows\n",
        "\n",
        "    Args:\n",
        "      model (TF Keras Model) - model that accepts data windows\n",
        "      series (array of float) - contains the values of the time series\n",
        "      window_size (int) - the number of time steps to include in the window\n",
        "      batch_size (int) - the batch size\n",
        "\n",
        "    Returns:\n",
        "      forecast (numpy array) - array containing predictions\n",
        "    \"\"\"\n",
        "\n",
        "    # Generate a TF Dataset from the series values\n",
        "    dataset = tf.data.Dataset.from_tensor_slices(series)\n",
        "\n",
        "    # Window the data but only take those with the specified size\n",
        "    dataset = dataset.window(window_size, shift=1, drop_remainder=True)\n",
        "\n",
        "    # Flatten the windows by putting its elements in a single batch\n",
        "    dataset = dataset.flat_map(lambda w: w.batch(window_size))\n",
        "    \n",
        "    # Create batches of windows\n",
        "    dataset = dataset.batch(batch_size).prefetch(1)\n",
        "    \n",
        "    # Get predictions on the entire dataset\n",
        "    forecast = model.predict(dataset)\n",
        "    \n",
        "    return forecast"
      ]
    },
    {
      "cell_type": "code",
      "execution_count": 15,
      "metadata": {
        "id": "GaC6NNMRp0lb",
        "colab": {
          "base_uri": "https://localhost:8080/",
          "height": 374
        },
        "outputId": "b43ed584-aff3-43e6-ff0c-569c53108573"
      },
      "outputs": [
        {
          "output_type": "display_data",
          "data": {
            "text/plain": [
              "<Figure size 720x432 with 1 Axes>"
            ],
            "image/png": "[encoded data removed]"
          },
          "metadata": {
            "needs_background": "light"
          }
        }
      ],
      "source": [
        "# Reduce the original series\n",
        "forecast_series = series[split_time-window_size:-1]\n",
        "\n",
        "# Use helper function to generate predictions\n",
        "forecast = model_forecast(model, forecast_series, window_size, batch_size)\n",
        "\n",
        "# Drop single dimensional axis\n",
        "results = forecast.squeeze()\n",
        "\n",
        "# Plot the results\n",
        "plot_series(time_valid, (x_valid, results))"
      ]
    },
    {
      "cell_type": "code",
      "execution_count": 16,
      "metadata": {
        "id": "13XrorC5wQoE",
        "colab": {
          "base_uri": "https://localhost:8080/"
        },
        "outputId": "f3cc8d48-0b05-4e47-d8a0-0a1f091ecc9e"
      },
      "outputs": [
        {
          "output_type": "stream",
          "name": "stdout",
          "text": [
            "14.492439\n"
          ]
        }
      ],
      "source": [
        "# Compute the MAE\n",
        "print(tf.keras.metrics.mean_absolute_error(x_valid, results).numpy())"
      ]
    },
    {
      "cell_type": "markdown",
      "metadata": {
        "id": "YqMGN9S5veN2"
      },
      "source": [
        "## Wrap Up\n",
        "\n",
        "In this lab, you built a relatively simple DNN to forecast sunspot numbers for a given month. We encourage you to tweak the parameters or train longer and see the best results you can get. In the next lab, you will build a more complex model and you evaluate if the added complexity translates to better or worse results."
      ]
    }
  ],
  "metadata": {
    "colab": {
      "collapsed_sections": [],
      "name": "C4_W4_Lab_2_Sunspots_DNN.ipynb",
      "provenance": []
    },
    "kernelspec": {
      "display_name": "Python 3",
      "language": "python",
      "name": "python3"
    },
    "language_info": {
      "codemirror_mode": {
        "name": "ipython",
        "version": 3
      },
      "file_extension": ".py",
      "mimetype": "text/x-python",
      "name": "python",
      "nbconvert_exporter": "python",
      "pygments_lexer": "ipython3",
      "version": "3.7.4"
    },
    "gpuClass": "standard"
  },
  "nbformat": 4,
  "nbformat_minor": 0
}