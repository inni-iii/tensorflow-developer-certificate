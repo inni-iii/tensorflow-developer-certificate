{
  "cells": [
    {
      "cell_type": "markdown",
      "metadata": {
        "id": "FCgfJMbNn7E6"
      },
      "source": [
        "<a href=\"https://colab.research.google.com/github/https-deeplearning-ai/tensorflow-1-public/blob/main/C4/W3/ungraded_labs/C4_W3_Lab_2_LSTM.ipynb\" target=\"_parent\"><img src=\"https://colab.research.google.com/assets/colab-badge.svg\" alt=\"Open In Colab\"/></a>"
      ]
    },
    {
      "cell_type": "markdown",
      "metadata": {
        "id": "sV_nvXSQGJPK"
      },
      "source": [
        "# Ungraded Lab: Using a multi-layer LSTM for forecasting\n",
        "\n",
        "In this lab, you will use the same RNN architecure in the first lab but will instead stack [LSTM](https://www.tensorflow.org/api_docs/python/tf/keras/layers/LSTM) layers instead of `SimpleRNN`."
      ]
    },
    {
      "cell_type": "markdown",
      "metadata": {
        "id": "3IMbAWETGOWD"
      },
      "source": [
        "## Imports"
      ]
    },
    {
      "cell_type": "code",
      "execution_count": 1,
      "metadata": {
        "id": "BOjujz601HcS"
      },
      "outputs": [],
      "source": [
        "import tensorflow as tf\n",
        "import numpy as np\n",
        "import matplotlib.pyplot as plt"
      ]
    },
    {
      "cell_type": "markdown",
      "metadata": {
        "id": "kD7RQQ0xGQVH"
      },
      "source": [
        "## Utilities"
      ]
    },
    {
      "cell_type": "code",
      "execution_count": 2,
      "metadata": {
        "id": "Zswl7jRtGzkk"
      },
      "outputs": [],
      "source": [
        "def plot_series(time, series, format=\"-\", start=0, end=None):\n",
        "    \"\"\"\n",
        "    Visualizes time series data\n",
        "\n",
        "    Args:\n",
        "      time (array of int) - contains the time steps\n",
        "      series (array of int) - contains the measurements for each time step\n",
        "      format - line style when plotting the graph\n",
        "      start - first time step to plot\n",
        "      end - last time step to plot\n",
        "    \"\"\"\n",
        "\n",
        "    # Setup dimensions of the graph figure\n",
        "    plt.figure(figsize=(10, 6))\n",
        "    \n",
        "    if type(series) is tuple:\n",
        "\n",
        "      for series_num in series:\n",
        "        # Plot the time series data\n",
        "        plt.plot(time[start:end], series_num[start:end], format)\n",
        "\n",
        "    else:\n",
        "      # Plot the time series data\n",
        "      plt.plot(time[start:end], series[start:end], format)\n",
        "\n",
        "    # Label the x-axis\n",
        "    plt.xlabel(\"Time\")\n",
        "\n",
        "    # Label the y-axis\n",
        "    plt.ylabel(\"Value\")\n",
        "\n",
        "    # Overlay a grid on the graph\n",
        "    plt.grid(True)\n",
        "\n",
        "    # Draw the graph on screen\n",
        "    plt.show()\n",
        "\n",
        "def trend(time, slope=0):\n",
        "    \"\"\"\n",
        "    Generates synthetic data that follows a straight line given a slope value.\n",
        "\n",
        "    Args:\n",
        "      time (array of int) - contains the time steps\n",
        "      slope (float) - determines the direction and steepness of the line\n",
        "\n",
        "    Returns:\n",
        "      series (array of float) - measurements that follow a straight line\n",
        "    \"\"\"\n",
        "\n",
        "    # Compute the linear series given the slope\n",
        "    series = slope * time\n",
        "\n",
        "    return series\n",
        "\n",
        "def seasonal_pattern(season_time):\n",
        "    \"\"\"\n",
        "    Just an arbitrary pattern, you can change it if you wish\n",
        "    \n",
        "    Args:\n",
        "      season_time (array of float) - contains the measurements per time step\n",
        "\n",
        "    Returns:\n",
        "      data_pattern (array of float) -  contains revised measurement values according \n",
        "                                  to the defined pattern\n",
        "    \"\"\"\n",
        "\n",
        "    # Generate the values using an arbitrary pattern\n",
        "    data_pattern = np.where(season_time < 0.4,\n",
        "                    np.cos(season_time * 2 * np.pi),\n",
        "                    1 / np.exp(3 * season_time))\n",
        "    \n",
        "    return data_pattern\n",
        "\n",
        "def seasonality(time, period, amplitude=1, phase=0):\n",
        "    \"\"\"\n",
        "    Repeats the same pattern at each period\n",
        "\n",
        "    Args:\n",
        "      time (array of int) - contains the time steps\n",
        "      period (int) - number of time steps before the pattern repeats\n",
        "      amplitude (int) - peak measured value in a period\n",
        "      phase (int) - number of time steps to shift the measured values\n",
        "\n",
        "    Returns:\n",
        "      data_pattern (array of float) - seasonal data scaled by the defined amplitude\n",
        "    \"\"\"\n",
        "    \n",
        "    # Define the measured values per period\n",
        "    season_time = ((time + phase) % period) / period\n",
        "\n",
        "    # Generates the seasonal data scaled by the defined amplitude\n",
        "    data_pattern = amplitude * seasonal_pattern(season_time)\n",
        "\n",
        "    return data_pattern\n",
        "\n",
        "def noise(time, noise_level=1, seed=None):\n",
        "    \"\"\"Generates a normally distributed noisy signal\n",
        "\n",
        "    Args:\n",
        "      time (array of int) - contains the time steps\n",
        "      noise_level (float) - scaling factor for the generated signal\n",
        "      seed (int) - number generator seed for repeatability\n",
        "\n",
        "    Returns:\n",
        "      noise (array of float) - the noisy signal\n",
        "    \"\"\"\n",
        "\n",
        "    # Initialize the random number generator\n",
        "    rnd = np.random.RandomState(seed)\n",
        "\n",
        "    # Generate a random number for each time step and scale by the noise level\n",
        "    noise = rnd.randn(len(time)) * noise_level\n",
        "    \n",
        "    return noise"
      ]
    },
    {
      "cell_type": "markdown",
      "metadata": {
        "id": "yxNyeFWjGSdj"
      },
      "source": [
        "## Generate the Synthetic Data"
      ]
    },
    {
      "cell_type": "code",
      "execution_count": 3,
      "metadata": {
        "id": "KYEUfDbdpHPm",
        "colab": {
          "base_uri": "https://localhost:8080/",
          "height": 388
        },
        "outputId": "1e8a80c1-263a-414b-9e0d-17dd4b2e40a6"
      },
      "outputs": [
        {
          "output_type": "display_data",
          "data": {
            "text/plain": [
              "<Figure size 720x432 with 1 Axes>"
            ],
            "image/png": "[encoded data removed]"
          },
          "metadata": {
            "needs_background": "light"
          }
        }
      ],
      "source": [
        "# Parameters\n",
        "time = np.arange(4 * 365 + 1, dtype=\"float32\")\n",
        "baseline = 10\n",
        "amplitude = 40\n",
        "slope = 0.05\n",
        "noise_level = 5\n",
        "\n",
        "# Create the series\n",
        "series = baseline + trend(time, slope) + seasonality(time, period=365, amplitude=amplitude)\n",
        "\n",
        "# Update with noise\n",
        "series += noise(time, noise_level, seed=42)\n",
        "\n",
        "# Plot the results\n",
        "plot_series(time, series)"
      ]
    },
    {
      "cell_type": "markdown",
      "metadata": {
        "id": "MYKCvv-eGWRc"
      },
      "source": [
        "## Split the Dataset"
      ]
    },
    {
      "cell_type": "code",
      "execution_count": 4,
      "metadata": {
        "id": "hpp0slenpKVD"
      },
      "outputs": [],
      "source": [
        "# Define the split time\n",
        "split_time = 1000\n",
        "\n",
        "# Get the train set \n",
        "time_train = time[:split_time]\n",
        "x_train = series[:split_time]\n",
        "\n",
        "# Get the validation set\n",
        "time_valid = time[split_time:]\n",
        "x_valid = series[split_time:]"
      ]
    },
    {
      "cell_type": "markdown",
      "metadata": {
        "id": "cktHz9aOGYtV"
      },
      "source": [
        "## Prepare Features and Labels"
      ]
    },
    {
      "cell_type": "code",
      "execution_count": 5,
      "metadata": {
        "id": "G_j_2_Mqwn7-"
      },
      "outputs": [],
      "source": [
        "# Parameters\n",
        "window_size = 20\n",
        "batch_size = 32\n",
        "shuffle_buffer_size = 1000"
      ]
    },
    {
      "cell_type": "code",
      "execution_count": 6,
      "metadata": {
        "id": "4sTTIOCbyShY"
      },
      "outputs": [],
      "source": [
        "def windowed_dataset(series, window_size, batch_size, shuffle_buffer):\n",
        "    \"\"\"Generates dataset windows\n",
        "\n",
        "    Args:\n",
        "      series (array of float) - contains the values of the time series\n",
        "      window_size (int) - the number of time steps to include in the feature\n",
        "      batch_size (int) - the batch size\n",
        "      shuffle_buffer(int) - buffer size to use for the shuffle method\n",
        "\n",
        "    Returns:\n",
        "      dataset (TF Dataset) - TF Dataset containing time windows\n",
        "    \"\"\"\n",
        "  \n",
        "    # Generate a TF Dataset from the series values\n",
        "    dataset = tf.data.Dataset.from_tensor_slices(series)\n",
        "    \n",
        "    # Window the data but only take those with the specified size\n",
        "    dataset = dataset.window(window_size + 1, shift=1, drop_remainder=True)\n",
        "    \n",
        "    # Flatten the windows by putting its elements in a single batch\n",
        "    dataset = dataset.flat_map(lambda window: window.batch(window_size + 1))\n",
        "\n",
        "    # Create tuples with features and labels \n",
        "    dataset = dataset.map(lambda window: (window[:-1], window[-1]))\n",
        "\n",
        "    # Shuffle the windows\n",
        "    dataset = dataset.shuffle(shuffle_buffer)\n",
        "    \n",
        "    # Create batches of windows\n",
        "    dataset = dataset.batch(batch_size).prefetch(1)\n",
        "    \n",
        "    return dataset"
      ]
    },
    {
      "cell_type": "code",
      "execution_count": 7,
      "metadata": {
        "id": "vGj5-InSwtQQ"
      },
      "outputs": [],
      "source": [
        "# Generate the dataset windows\n",
        "dataset = windowed_dataset(x_train, window_size, batch_size, shuffle_buffer_size)"
      ]
    },
    {
      "cell_type": "markdown",
      "metadata": {
        "id": "p9-Ke8ZaGcjd"
      },
      "source": [
        "## Build the Model\n",
        "\n",
        "As mentioned, you will swap `SimpleRNN` for `LSTM` in this lab. It is also set as bidirectional below but feel free to revise later and see what results you get. LSTMs are much more complex in their internal architecture than simpleRNNs. It implements a cell state that allows it to remember sequences better than simple implementations. This added complexity results in a bigger set of parameters to train and you'll see that when you print the model summary below."
      ]
    },
    {
      "cell_type": "code",
      "execution_count": 8,
      "metadata": {
        "id": "A1Hl39rklkLm",
        "colab": {
          "base_uri": "https://localhost:8080/"
        },
        "outputId": "0205f4b8-d9a9-4eb5-9d41-b5c230570f05"
      },
      "outputs": [
        {
          "output_type": "stream",
          "name": "stdout",
          "text": [
            "Model: \"sequential\"\n",
            "_________________________________________________________________\n",
            " Layer (type)                Output Shape              Param #   \n",
            "=================================================================\n",
            " lambda (Lambda)             (None, 20, 1)             0         \n",
            "                                                                 \n",
            " bidirectional (Bidirectiona  (None, 20, 64)           8704      \n",
            " l)                                                              \n",
            "                                                                 \n",
            " bidirectional_1 (Bidirectio  (None, 64)               24832     \n",
            " nal)                                                            \n",
            "                                                                 \n",
            " dense (Dense)               (None, 1)                 65        \n",
            "                                                                 \n",
            " lambda_1 (Lambda)           (None, 1)                 0         \n",
            "                                                                 \n",
            "=================================================================\n",
            "Total params: 33,601\n",
            "Trainable params: 33,601\n",
            "Non-trainable params: 0\n",
            "_________________________________________________________________\n"
          ]
        }
      ],
      "source": [
        "# Build the Model\n",
        "model_tune = tf.keras.models.Sequential([\n",
        "  tf.keras.layers.Lambda(lambda x: tf.expand_dims(x, axis=-1),\n",
        "                      input_shape=[window_size]),\n",
        "    tf.keras.layers.Bidirectional(tf.keras.layers.LSTM(32, return_sequences=True)),\n",
        "  tf.keras.layers.Bidirectional(tf.keras.layers.LSTM(32)),\n",
        "  tf.keras.layers.Dense(1),\n",
        "  tf.keras.layers.Lambda(lambda x: x * 100.0)\n",
        "])\n",
        "\n",
        "# Print the model summary\n",
        "model_tune.summary()"
      ]
    },
    {
      "cell_type": "markdown",
      "metadata": {
        "id": "FHaFblbwq0GV"
      },
      "source": [
        "## Tune the Learning Rate\n",
        "\n",
        "As usual, you will pick a learning rate by running the tuning code below."
      ]
    },
    {
      "cell_type": "code",
      "execution_count": 9,
      "metadata": {
        "id": "qE7al18qw48G",
        "colab": {
          "base_uri": "https://localhost:8080/"
        },
        "outputId": "9b7de198-45ab-475b-b3e1-434db5fd8e97"
      },
      "outputs": [
        {
          "output_type": "stream",
          "name": "stdout",
          "text": [
            "Epoch 1/100\n",
            "31/31 [==============================] - 16s 18ms/step - loss: 68.2256 - lr: 1.0000e-08\n",
            "Epoch 2/100\n",
            "31/31 [==============================] - 0s 9ms/step - loss: 67.3015 - lr: 1.1220e-08\n",
            "Epoch 3/100\n",
            "31/31 [==============================] - 0s 9ms/step - loss: 66.1776 - lr: 1.2589e-08\n",
            "Epoch 4/100\n",
            "31/31 [==============================] - 0s 9ms/step - loss: 64.9154 - lr: 1.4125e-08\n",
            "Epoch 5/100\n",
            "31/31 [==============================] - 0s 9ms/step - loss: 63.4955 - lr: 1.5849e-08\n",
            "Epoch 6/100\n",
            "31/31 [==============================] - 0s 9ms/step - loss: 61.9036 - lr: 1.7783e-08\n",
            "Epoch 7/100\n",
            "31/31 [==============================] - 0s 9ms/step - loss: 60.1076 - lr: 1.9953e-08\n",
            "Epoch 8/100\n",
            "31/31 [==============================] - 0s 9ms/step - loss: 58.0876 - lr: 2.2387e-08\n",
            "Epoch 9/100\n",
            "31/31 [==============================] - 0s 9ms/step - loss: 55.8192 - lr: 2.5119e-08\n",
            "Epoch 10/100\n",
            "31/31 [==============================] - 0s 9ms/step - loss: 53.2680 - lr: 2.8184e-08\n",
            "Epoch 11/100\n",
            "31/31 [==============================] - 0s 9ms/step - loss: 50.3938 - lr: 3.1623e-08\n",
            "Epoch 12/100\n",
            "31/31 [==============================] - 0s 9ms/step - loss: 47.1454 - lr: 3.5481e-08\n",
            "Epoch 13/100\n",
            "31/31 [==============================] - 0s 9ms/step - loss: 43.5149 - lr: 3.9811e-08\n",
            "Epoch 14/100\n",
            "31/31 [==============================] - 0s 9ms/step - loss: 39.4950 - lr: 4.4668e-08\n",
            "Epoch 15/100\n",
            "31/31 [==============================] - 0s 9ms/step - loss: 35.0971 - lr: 5.0119e-08\n",
            "Epoch 16/100\n",
            "31/31 [==============================] - 0s 9ms/step - loss: 30.4033 - lr: 5.6234e-08\n",
            "Epoch 17/100\n",
            "31/31 [==============================] - 0s 9ms/step - loss: 25.4981 - lr: 6.3096e-08\n",
            "Epoch 18/100\n",
            "31/31 [==============================] - 0s 9ms/step - loss: 21.1506 - lr: 7.0795e-08\n",
            "Epoch 19/100\n",
            "31/31 [==============================] - 0s 10ms/step - loss: 18.1046 - lr: 7.9433e-08\n",
            "Epoch 20/100\n",
            "31/31 [==============================] - 0s 9ms/step - loss: 16.2088 - lr: 8.9125e-08\n",
            "Epoch 21/100\n",
            "31/31 [==============================] - 0s 9ms/step - loss: 14.8380 - lr: 1.0000e-07\n",
            "Epoch 22/100\n",
            "31/31 [==============================] - 0s 9ms/step - loss: 13.9250 - lr: 1.1220e-07\n",
            "Epoch 23/100\n",
            "31/31 [==============================] - 0s 10ms/step - loss: 13.2816 - lr: 1.2589e-07\n",
            "Epoch 24/100\n",
            "31/31 [==============================] - 0s 9ms/step - loss: 12.6898 - lr: 1.4125e-07\n",
            "Epoch 25/100\n",
            "31/31 [==============================] - 0s 9ms/step - loss: 11.5125 - lr: 1.5849e-07\n",
            "Epoch 26/100\n",
            "31/31 [==============================] - 0s 9ms/step - loss: 9.9323 - lr: 1.7783e-07\n",
            "Epoch 27/100\n",
            "31/31 [==============================] - 0s 9ms/step - loss: 9.1655 - lr: 1.9953e-07\n",
            "Epoch 28/100\n",
            "31/31 [==============================] - 0s 9ms/step - loss: 8.5708 - lr: 2.2387e-07\n",
            "Epoch 29/100\n",
            "31/31 [==============================] - 0s 9ms/step - loss: 8.1547 - lr: 2.5119e-07\n",
            "Epoch 30/100\n",
            "31/31 [==============================] - 0s 9ms/step - loss: 7.6452 - lr: 2.8184e-07\n",
            "Epoch 31/100\n",
            "31/31 [==============================] - 0s 9ms/step - loss: 7.3819 - lr: 3.1623e-07\n",
            "Epoch 32/100\n",
            "31/31 [==============================] - 0s 9ms/step - loss: 7.0645 - lr: 3.5481e-07\n",
            "Epoch 33/100\n",
            "31/31 [==============================] - 0s 9ms/step - loss: 7.0734 - lr: 3.9811e-07\n",
            "Epoch 34/100\n",
            "31/31 [==============================] - 0s 9ms/step - loss: 7.8486 - lr: 4.4668e-07\n",
            "Epoch 35/100\n",
            "31/31 [==============================] - 0s 9ms/step - loss: 7.2404 - lr: 5.0119e-07\n",
            "Epoch 36/100\n",
            "31/31 [==============================] - 0s 9ms/step - loss: 6.9254 - lr: 5.6234e-07\n",
            "Epoch 37/100\n",
            "31/31 [==============================] - 0s 9ms/step - loss: 7.7369 - lr: 6.3096e-07\n",
            "Epoch 38/100\n",
            "31/31 [==============================] - 0s 9ms/step - loss: 6.8799 - lr: 7.0795e-07\n",
            "Epoch 39/100\n",
            "31/31 [==============================] - 0s 9ms/step - loss: 6.5872 - lr: 7.9433e-07\n",
            "Epoch 40/100\n",
            "31/31 [==============================] - 0s 10ms/step - loss: 6.7610 - lr: 8.9125e-07\n",
            "Epoch 41/100\n",
            "31/31 [==============================] - 0s 9ms/step - loss: 7.3832 - lr: 1.0000e-06\n",
            "Epoch 42/100\n",
            "31/31 [==============================] - 0s 9ms/step - loss: 6.8414 - lr: 1.1220e-06\n",
            "Epoch 43/100\n",
            "31/31 [==============================] - 0s 9ms/step - loss: 7.2715 - lr: 1.2589e-06\n",
            "Epoch 44/100\n",
            "31/31 [==============================] - 0s 9ms/step - loss: 7.2203 - lr: 1.4125e-06\n",
            "Epoch 45/100\n",
            "31/31 [==============================] - 0s 10ms/step - loss: 6.6117 - lr: 1.5849e-06\n",
            "Epoch 46/100\n",
            "31/31 [==============================] - 0s 10ms/step - loss: 6.5471 - lr: 1.7783e-06\n",
            "Epoch 47/100\n",
            "31/31 [==============================] - 0s 9ms/step - loss: 6.7299 - lr: 1.9953e-06\n",
            "Epoch 48/100\n",
            "31/31 [==============================] - 0s 9ms/step - loss: 6.5914 - lr: 2.2387e-06\n",
            "Epoch 49/100\n",
            "31/31 [==============================] - 0s 9ms/step - loss: 6.1734 - lr: 2.5119e-06\n",
            "Epoch 50/100\n",
            "31/31 [==============================] - 0s 9ms/step - loss: 6.0656 - lr: 2.8184e-06\n",
            "Epoch 51/100\n",
            "31/31 [==============================] - 0s 10ms/step - loss: 6.1699 - lr: 3.1623e-06\n",
            "Epoch 52/100\n",
            "31/31 [==============================] - 0s 9ms/step - loss: 5.7367 - lr: 3.5481e-06\n",
            "Epoch 53/100\n",
            "31/31 [==============================] - 0s 9ms/step - loss: 5.8260 - lr: 3.9811e-06\n",
            "Epoch 54/100\n",
            "31/31 [==============================] - 0s 9ms/step - loss: 5.6103 - lr: 4.4668e-06\n",
            "Epoch 55/100\n",
            "31/31 [==============================] - 0s 9ms/step - loss: 5.4159 - lr: 5.0119e-06\n",
            "Epoch 56/100\n",
            "31/31 [==============================] - 0s 9ms/step - loss: 5.3786 - lr: 5.6234e-06\n",
            "Epoch 57/100\n",
            "31/31 [==============================] - 0s 9ms/step - loss: 5.3141 - lr: 6.3096e-06\n",
            "Epoch 58/100\n",
            "31/31 [==============================] - 0s 9ms/step - loss: 5.4957 - lr: 7.0795e-06\n",
            "Epoch 59/100\n",
            "31/31 [==============================] - 0s 9ms/step - loss: 5.2759 - lr: 7.9433e-06\n",
            "Epoch 60/100\n",
            "31/31 [==============================] - 0s 10ms/step - loss: 5.0602 - lr: 8.9125e-06\n",
            "Epoch 61/100\n",
            "31/31 [==============================] - 0s 9ms/step - loss: 4.8986 - lr: 1.0000e-05\n",
            "Epoch 62/100\n",
            "31/31 [==============================] - 0s 10ms/step - loss: 4.9952 - lr: 1.1220e-05\n",
            "Epoch 63/100\n",
            "31/31 [==============================] - 0s 9ms/step - loss: 5.4662 - lr: 1.2589e-05\n",
            "Epoch 64/100\n",
            "31/31 [==============================] - 0s 9ms/step - loss: 5.2985 - lr: 1.4125e-05\n",
            "Epoch 65/100\n",
            "31/31 [==============================] - 0s 10ms/step - loss: 6.2191 - lr: 1.5849e-05\n",
            "Epoch 66/100\n",
            "31/31 [==============================] - 0s 9ms/step - loss: 5.1451 - lr: 1.7783e-05\n",
            "Epoch 67/100\n",
            "31/31 [==============================] - 0s 10ms/step - loss: 5.0404 - lr: 1.9953e-05\n",
            "Epoch 68/100\n",
            "31/31 [==============================] - 0s 9ms/step - loss: 4.9988 - lr: 2.2387e-05\n",
            "Epoch 69/100\n",
            "31/31 [==============================] - 0s 9ms/step - loss: 5.1720 - lr: 2.5119e-05\n",
            "Epoch 70/100\n",
            "31/31 [==============================] - 0s 9ms/step - loss: 7.7075 - lr: 2.8184e-05\n",
            "Epoch 71/100\n",
            "31/31 [==============================] - 0s 9ms/step - loss: 6.3925 - lr: 3.1623e-05\n",
            "Epoch 72/100\n",
            "31/31 [==============================] - 0s 9ms/step - loss: 6.3175 - lr: 3.5481e-05\n",
            "Epoch 73/100\n",
            "31/31 [==============================] - 0s 9ms/step - loss: 6.3249 - lr: 3.9811e-05\n",
            "Epoch 74/100\n",
            "31/31 [==============================] - 0s 9ms/step - loss: 5.4204 - lr: 4.4668e-05\n",
            "Epoch 75/100\n",
            "31/31 [==============================] - 0s 9ms/step - loss: 6.8915 - lr: 5.0119e-05\n",
            "Epoch 76/100\n",
            "31/31 [==============================] - 0s 10ms/step - loss: 5.5420 - lr: 5.6234e-05\n",
            "Epoch 77/100\n",
            "31/31 [==============================] - 0s 10ms/step - loss: 5.1329 - lr: 6.3096e-05\n",
            "Epoch 78/100\n",
            "31/31 [==============================] - 0s 10ms/step - loss: 6.6795 - lr: 7.0795e-05\n",
            "Epoch 79/100\n",
            "31/31 [==============================] - 0s 9ms/step - loss: 5.9991 - lr: 7.9433e-05\n",
            "Epoch 80/100\n",
            "31/31 [==============================] - 0s 9ms/step - loss: 5.1790 - lr: 8.9125e-05\n",
            "Epoch 81/100\n",
            "31/31 [==============================] - 0s 9ms/step - loss: 6.8804 - lr: 1.0000e-04\n",
            "Epoch 82/100\n",
            "31/31 [==============================] - 0s 9ms/step - loss: 7.3546 - lr: 1.1220e-04\n",
            "Epoch 83/100\n",
            "31/31 [==============================] - 0s 9ms/step - loss: 6.1490 - lr: 1.2589e-04\n",
            "Epoch 84/100\n",
            "31/31 [==============================] - 0s 9ms/step - loss: 6.1569 - lr: 1.4125e-04\n",
            "Epoch 85/100\n",
            "31/31 [==============================] - 0s 9ms/step - loss: 7.2348 - lr: 1.5849e-04\n",
            "Epoch 86/100\n",
            "31/31 [==============================] - 0s 10ms/step - loss: 5.5012 - lr: 1.7783e-04\n",
            "Epoch 87/100\n",
            "31/31 [==============================] - 0s 9ms/step - loss: 7.6048 - lr: 1.9953e-04\n",
            "Epoch 88/100\n",
            "31/31 [==============================] - 0s 10ms/step - loss: 7.3162 - lr: 2.2387e-04\n",
            "Epoch 89/100\n",
            "31/31 [==============================] - 0s 9ms/step - loss: 6.6214 - lr: 2.5119e-04\n",
            "Epoch 90/100\n",
            "31/31 [==============================] - 0s 9ms/step - loss: 11.9001 - lr: 2.8184e-04\n",
            "Epoch 91/100\n",
            "31/31 [==============================] - 0s 9ms/step - loss: 9.3370 - lr: 3.1623e-04\n",
            "Epoch 92/100\n",
            "31/31 [==============================] - 0s 9ms/step - loss: 8.1336 - lr: 3.5481e-04\n",
            "Epoch 93/100\n",
            "31/31 [==============================] - 0s 9ms/step - loss: 6.6501 - lr: 3.9811e-04\n",
            "Epoch 94/100\n",
            "31/31 [==============================] - 0s 9ms/step - loss: 7.3739 - lr: 4.4668e-04\n",
            "Epoch 95/100\n",
            "31/31 [==============================] - 0s 9ms/step - loss: 6.6168 - lr: 5.0119e-04\n",
            "Epoch 96/100\n",
            "31/31 [==============================] - 0s 9ms/step - loss: 7.3951 - lr: 5.6234e-04\n",
            "Epoch 97/100\n",
            "31/31 [==============================] - 0s 9ms/step - loss: 9.5586 - lr: 6.3096e-04\n",
            "Epoch 98/100\n",
            "31/31 [==============================] - 0s 9ms/step - loss: 12.0993 - lr: 7.0795e-04\n",
            "Epoch 99/100\n",
            "31/31 [==============================] - 0s 9ms/step - loss: 11.3767 - lr: 7.9433e-04\n",
            "Epoch 100/100\n",
            "31/31 [==============================] - 0s 9ms/step - loss: 12.1743 - lr: 8.9125e-04\n"
          ]
        }
      ],
      "source": [
        "# Set the learning rate scheduler\n",
        "lr_schedule = tf.keras.callbacks.LearningRateScheduler(\n",
        "    lambda epoch: 1e-8 * 10**(epoch / 20))\n",
        "\n",
        "# Initialize the optimizer\n",
        "optimizer = tf.keras.optimizers.SGD(momentum=0.9)\n",
        "\n",
        "# Set the training parameters\n",
        "model_tune.compile(loss=tf.keras.losses.Huber(), optimizer=optimizer)\n",
        "\n",
        "# Train the model\n",
        "history = model_tune.fit(dataset, epochs=100, callbacks=[lr_schedule])"
      ]
    },
    {
      "cell_type": "code",
      "execution_count": 10,
      "metadata": {
        "id": "AkBsrsXMzoWR",
        "colab": {
          "base_uri": "https://localhost:8080/",
          "height": 406
        },
        "outputId": "164f3b8b-5c0e-4145-8f1a-930982d95d3a"
      },
      "outputs": [
        {
          "output_type": "execute_result",
          "data": {
            "text/plain": [
              "(1e-08, 0.001, 0.0, 30.0)"
            ]
          },
          "metadata": {},
          "execution_count": 10
        },
        {
          "output_type": "display_data",
          "data": {
            "text/plain": [
              "<Figure size 720x432 with 1 Axes>"
            ],
            "image/png": "[encoded data removed]"
          },
          "metadata": {
            "needs_background": "light"
          }
        }
      ],
      "source": [
        "# Define the learning rate array\n",
        "lrs = 1e-8 * (10 ** (np.arange(100) / 20))\n",
        "\n",
        "# Set the figure size\n",
        "plt.figure(figsize=(10, 6))\n",
        "\n",
        "# Set the grid\n",
        "plt.grid(True)\n",
        "\n",
        "# Plot the loss in log scale\n",
        "plt.semilogx(lrs, history.history[\"loss\"])\n",
        "\n",
        "# Increase the tickmarks size\n",
        "plt.tick_params('both', length=10, width=1, which='both')\n",
        "\n",
        "# Set the plot boundaries\n",
        "plt.axis([1e-8, 1e-3, 0, 30])"
      ]
    },
    {
      "cell_type": "markdown",
      "metadata": {
        "id": "i-lKNp4pq_w8"
      },
      "source": [
        "## Train the Model\n",
        "\n",
        "You can then proceed to train the model with your chosen learning rate. \n",
        "\n",
        "*Tip: When experimenting and you find yourself running different iterations of a model, you may want to use the [`clear_session()`](https://www.tensorflow.org/api_docs/python/tf/keras/backend/clear_session) method to declutter memory used by Keras. This is added in the first line below.*\n"
      ]
    },
    {
      "cell_type": "code",
      "execution_count": 11,
      "metadata": {
        "id": "4uh-97bpLZCA",
        "colab": {
          "base_uri": "https://localhost:8080/"
        },
        "outputId": "de299d52-ce87-42df-8a83-998276d54890"
      },
      "outputs": [
        {
          "output_type": "stream",
          "name": "stdout",
          "text": [
            "Epoch 1/100\n",
            "31/31 [==============================] - 5s 10ms/step - loss: 16.0763 - mae: 16.5675\n",
            "Epoch 2/100\n",
            "31/31 [==============================] - 0s 9ms/step - loss: 10.0356 - mae: 10.5250\n",
            "Epoch 3/100\n",
            "31/31 [==============================] - 0s 9ms/step - loss: 7.6314 - mae: 8.1160\n",
            "Epoch 4/100\n",
            "31/31 [==============================] - 0s 9ms/step - loss: 6.6937 - mae: 7.1729\n",
            "Epoch 5/100\n",
            "31/31 [==============================] - 0s 10ms/step - loss: 6.1155 - mae: 6.5959\n",
            "Epoch 6/100\n",
            "31/31 [==============================] - 0s 10ms/step - loss: 5.8752 - mae: 6.3486\n",
            "Epoch 7/100\n",
            "31/31 [==============================] - 0s 9ms/step - loss: 5.7052 - mae: 6.1840\n",
            "Epoch 8/100\n",
            "31/31 [==============================] - 0s 9ms/step - loss: 5.6093 - mae: 6.0847\n",
            "Epoch 9/100\n",
            "31/31 [==============================] - 0s 9ms/step - loss: 5.6489 - mae: 6.1333\n",
            "Epoch 10/100\n",
            "31/31 [==============================] - 0s 10ms/step - loss: 5.9877 - mae: 6.4706\n",
            "Epoch 11/100\n",
            "31/31 [==============================] - 0s 9ms/step - loss: 5.8803 - mae: 6.3626\n",
            "Epoch 12/100\n",
            "31/31 [==============================] - 0s 9ms/step - loss: 5.4087 - mae: 5.8904\n",
            "Epoch 13/100\n",
            "31/31 [==============================] - 0s 9ms/step - loss: 5.3692 - mae: 5.8518\n",
            "Epoch 14/100\n",
            "31/31 [==============================] - 0s 10ms/step - loss: 5.4551 - mae: 5.9341\n",
            "Epoch 15/100\n",
            "31/31 [==============================] - 0s 9ms/step - loss: 5.3493 - mae: 5.8263\n",
            "Epoch 16/100\n",
            "31/31 [==============================] - 0s 9ms/step - loss: 5.2404 - mae: 5.7236\n",
            "Epoch 17/100\n",
            "31/31 [==============================] - 0s 9ms/step - loss: 5.1853 - mae: 5.6669\n",
            "Epoch 18/100\n",
            "31/31 [==============================] - 0s 10ms/step - loss: 5.1637 - mae: 5.6429\n",
            "Epoch 19/100\n",
            "31/31 [==============================] - 0s 9ms/step - loss: 5.0424 - mae: 5.5175\n",
            "Epoch 20/100\n",
            "31/31 [==============================] - 0s 9ms/step - loss: 5.1985 - mae: 5.6795\n",
            "Epoch 21/100\n",
            "31/31 [==============================] - 0s 10ms/step - loss: 4.9633 - mae: 5.4369\n",
            "Epoch 22/100\n",
            "31/31 [==============================] - 0s 9ms/step - loss: 5.0449 - mae: 5.5236\n",
            "Epoch 23/100\n",
            "31/31 [==============================] - 0s 10ms/step - loss: 5.1093 - mae: 5.5897\n",
            "Epoch 24/100\n",
            "31/31 [==============================] - 0s 9ms/step - loss: 4.8515 - mae: 5.3307\n",
            "Epoch 25/100\n",
            "31/31 [==============================] - 0s 10ms/step - loss: 4.8372 - mae: 5.3157\n",
            "Epoch 26/100\n",
            "31/31 [==============================] - 0s 9ms/step - loss: 5.0759 - mae: 5.5530\n",
            "Epoch 27/100\n",
            "31/31 [==============================] - 0s 9ms/step - loss: 4.8825 - mae: 5.3618\n",
            "Epoch 28/100\n",
            "31/31 [==============================] - 0s 9ms/step - loss: 4.8687 - mae: 5.3477\n",
            "Epoch 29/100\n",
            "31/31 [==============================] - 0s 10ms/step - loss: 4.8673 - mae: 5.3483\n",
            "Epoch 30/100\n",
            "31/31 [==============================] - 0s 9ms/step - loss: 4.8265 - mae: 5.2992\n",
            "Epoch 31/100\n",
            "31/31 [==============================] - 0s 9ms/step - loss: 4.7270 - mae: 5.2039\n",
            "Epoch 32/100\n",
            "31/31 [==============================] - 0s 9ms/step - loss: 4.7301 - mae: 5.2057\n",
            "Epoch 33/100\n",
            "31/31 [==============================] - 0s 10ms/step - loss: 4.7029 - mae: 5.1780\n",
            "Epoch 34/100\n",
            "31/31 [==============================] - 0s 9ms/step - loss: 4.7295 - mae: 5.2078\n",
            "Epoch 35/100\n",
            "31/31 [==============================] - 0s 10ms/step - loss: 4.7385 - mae: 5.2146\n",
            "Epoch 36/100\n",
            "31/31 [==============================] - 0s 9ms/step - loss: 4.7082 - mae: 5.1809\n",
            "Epoch 37/100\n",
            "31/31 [==============================] - 0s 9ms/step - loss: 4.7286 - mae: 5.2055\n",
            "Epoch 38/100\n",
            "31/31 [==============================] - 0s 10ms/step - loss: 4.7252 - mae: 5.2034\n",
            "Epoch 39/100\n",
            "31/31 [==============================] - 0s 9ms/step - loss: 4.7746 - mae: 5.2517\n",
            "Epoch 40/100\n",
            "31/31 [==============================] - 0s 10ms/step - loss: 4.7393 - mae: 5.2163\n",
            "Epoch 41/100\n",
            "31/31 [==============================] - 0s 10ms/step - loss: 4.9135 - mae: 5.3909\n",
            "Epoch 42/100\n",
            "31/31 [==============================] - 0s 10ms/step - loss: 5.2187 - mae: 5.6958\n",
            "Epoch 43/100\n",
            "31/31 [==============================] - 0s 10ms/step - loss: 4.7006 - mae: 5.1762\n",
            "Epoch 44/100\n",
            "31/31 [==============================] - 0s 10ms/step - loss: 4.6998 - mae: 5.1708\n",
            "Epoch 45/100\n",
            "31/31 [==============================] - 0s 9ms/step - loss: 4.6176 - mae: 5.0973\n",
            "Epoch 46/100\n",
            "31/31 [==============================] - 0s 10ms/step - loss: 4.7171 - mae: 5.1929\n",
            "Epoch 47/100\n",
            "31/31 [==============================] - 0s 10ms/step - loss: 4.7070 - mae: 5.1858\n",
            "Epoch 48/100\n",
            "31/31 [==============================] - 0s 10ms/step - loss: 4.8250 - mae: 5.3040\n",
            "Epoch 49/100\n",
            "31/31 [==============================] - 0s 10ms/step - loss: 4.5885 - mae: 5.0671\n",
            "Epoch 50/100\n",
            "31/31 [==============================] - 1s 14ms/step - loss: 4.6775 - mae: 5.1534\n",
            "Epoch 51/100\n",
            "31/31 [==============================] - 1s 13ms/step - loss: 4.7213 - mae: 5.1955\n",
            "Epoch 52/100\n",
            "31/31 [==============================] - 1s 13ms/step - loss: 4.7130 - mae: 5.1893\n",
            "Epoch 53/100\n",
            "31/31 [==============================] - 0s 10ms/step - loss: 4.6268 - mae: 5.1038\n",
            "Epoch 54/100\n",
            "31/31 [==============================] - 0s 9ms/step - loss: 4.6271 - mae: 5.1050\n",
            "Epoch 55/100\n",
            "31/31 [==============================] - 0s 9ms/step - loss: 4.5935 - mae: 5.0665\n",
            "Epoch 56/100\n",
            "31/31 [==============================] - 0s 10ms/step - loss: 4.9554 - mae: 5.4297\n",
            "Epoch 57/100\n",
            "31/31 [==============================] - 0s 10ms/step - loss: 4.7852 - mae: 5.2623\n",
            "Epoch 58/100\n",
            "31/31 [==============================] - 0s 10ms/step - loss: 4.6359 - mae: 5.1139\n",
            "Epoch 59/100\n",
            "31/31 [==============================] - 0s 10ms/step - loss: 4.5676 - mae: 5.0443\n",
            "Epoch 60/100\n",
            "31/31 [==============================] - 0s 9ms/step - loss: 4.5970 - mae: 5.0715\n",
            "Epoch 61/100\n",
            "31/31 [==============================] - 0s 9ms/step - loss: 4.6187 - mae: 5.0964\n",
            "Epoch 62/100\n",
            "31/31 [==============================] - 0s 10ms/step - loss: 4.6533 - mae: 5.1311\n",
            "Epoch 63/100\n",
            "31/31 [==============================] - 0s 9ms/step - loss: 4.5958 - mae: 5.0759\n",
            "Epoch 64/100\n",
            "31/31 [==============================] - 0s 10ms/step - loss: 4.5502 - mae: 5.0269\n",
            "Epoch 65/100\n",
            "31/31 [==============================] - 0s 10ms/step - loss: 4.5173 - mae: 4.9923\n",
            "Epoch 66/100\n",
            "31/31 [==============================] - 0s 10ms/step - loss: 4.5530 - mae: 5.0264\n",
            "Epoch 67/100\n",
            "31/31 [==============================] - 0s 9ms/step - loss: 4.5261 - mae: 5.0025\n",
            "Epoch 68/100\n",
            "31/31 [==============================] - 0s 10ms/step - loss: 4.6655 - mae: 5.1438\n",
            "Epoch 69/100\n",
            "31/31 [==============================] - 0s 9ms/step - loss: 4.5871 - mae: 5.0643\n",
            "Epoch 70/100\n",
            "31/31 [==============================] - 0s 9ms/step - loss: 4.5859 - mae: 5.0606\n",
            "Epoch 71/100\n",
            "31/31 [==============================] - 0s 10ms/step - loss: 4.6381 - mae: 5.1128\n",
            "Epoch 72/100\n",
            "31/31 [==============================] - 0s 10ms/step - loss: 4.7039 - mae: 5.1811\n",
            "Epoch 73/100\n",
            "31/31 [==============================] - 0s 10ms/step - loss: 4.5852 - mae: 5.0616\n",
            "Epoch 74/100\n",
            "31/31 [==============================] - 0s 9ms/step - loss: 4.4966 - mae: 4.9731\n",
            "Epoch 75/100\n",
            "31/31 [==============================] - 0s 9ms/step - loss: 4.7787 - mae: 5.2544\n",
            "Epoch 76/100\n",
            "31/31 [==============================] - 1s 20ms/step - loss: 4.5447 - mae: 5.0156\n",
            "Epoch 77/100\n",
            "31/31 [==============================] - 0s 10ms/step - loss: 4.4842 - mae: 4.9581\n",
            "Epoch 78/100\n",
            "31/31 [==============================] - 1s 10ms/step - loss: 4.4832 - mae: 4.9562\n",
            "Epoch 79/100\n",
            "31/31 [==============================] - 0s 10ms/step - loss: 4.4873 - mae: 4.9599\n",
            "Epoch 80/100\n",
            "31/31 [==============================] - 0s 10ms/step - loss: 4.5637 - mae: 5.0344\n",
            "Epoch 81/100\n",
            "31/31 [==============================] - 0s 10ms/step - loss: 4.5874 - mae: 5.0605\n",
            "Epoch 82/100\n",
            "31/31 [==============================] - 0s 10ms/step - loss: 4.7053 - mae: 5.1838\n",
            "Epoch 83/100\n",
            "31/31 [==============================] - 0s 10ms/step - loss: 4.6325 - mae: 5.1084\n",
            "Epoch 84/100\n",
            "31/31 [==============================] - 0s 9ms/step - loss: 4.4565 - mae: 4.9312\n",
            "Epoch 85/100\n",
            "31/31 [==============================] - 0s 10ms/step - loss: 4.4938 - mae: 4.9689\n",
            "Epoch 86/100\n",
            "31/31 [==============================] - 0s 10ms/step - loss: 4.5033 - mae: 4.9788\n",
            "Epoch 87/100\n",
            "31/31 [==============================] - 0s 10ms/step - loss: 4.4651 - mae: 4.9412\n",
            "Epoch 88/100\n",
            "31/31 [==============================] - 0s 10ms/step - loss: 4.7978 - mae: 5.2815\n",
            "Epoch 89/100\n",
            "31/31 [==============================] - 0s 10ms/step - loss: 4.5203 - mae: 5.0002\n",
            "Epoch 90/100\n",
            "31/31 [==============================] - 0s 10ms/step - loss: 4.4628 - mae: 4.9395\n",
            "Epoch 91/100\n",
            "31/31 [==============================] - 0s 10ms/step - loss: 4.4780 - mae: 4.9530\n",
            "Epoch 92/100\n",
            "31/31 [==============================] - 0s 9ms/step - loss: 4.4933 - mae: 4.9685\n",
            "Epoch 93/100\n",
            "31/31 [==============================] - 0s 10ms/step - loss: 4.5602 - mae: 5.0345\n",
            "Epoch 94/100\n",
            "31/31 [==============================] - 0s 10ms/step - loss: 4.5623 - mae: 5.0372\n",
            "Epoch 95/100\n",
            "31/31 [==============================] - 0s 10ms/step - loss: 4.4930 - mae: 4.9670\n",
            "Epoch 96/100\n",
            "31/31 [==============================] - 0s 10ms/step - loss: 4.4584 - mae: 4.9326\n",
            "Epoch 97/100\n",
            "31/31 [==============================] - 0s 10ms/step - loss: 4.4719 - mae: 4.9517\n",
            "Epoch 98/100\n",
            "31/31 [==============================] - 0s 10ms/step - loss: 4.4425 - mae: 4.9225\n",
            "Epoch 99/100\n",
            "31/31 [==============================] - 0s 10ms/step - loss: 4.5056 - mae: 4.9789\n",
            "Epoch 100/100\n",
            "31/31 [==============================] - 0s 10ms/step - loss: 4.4947 - mae: 4.9728\n"
          ]
        }
      ],
      "source": [
        "# Reset states generated by Keras\n",
        "tf.keras.backend.clear_session()\n",
        "\n",
        "# Build the model\n",
        "model = tf.keras.models.Sequential([\n",
        "  tf.keras.layers.Lambda(lambda x: tf.expand_dims(x, axis=-1),\n",
        "                      input_shape=[None]),\n",
        "   tf.keras.layers.Bidirectional(tf.keras.layers.LSTM(32, return_sequences=True)),\n",
        "  tf.keras.layers.Bidirectional(tf.keras.layers.LSTM(32)),\n",
        "  tf.keras.layers.Dense(1),\n",
        "  tf.keras.layers.Lambda(lambda x: x * 100.0)\n",
        "])\n",
        "\n",
        "# Set the learning rate\n",
        "learning_rate = 2e-6\n",
        "\n",
        "# Set the optimizer \n",
        "optimizer = tf.keras.optimizers.SGD(learning_rate=learning_rate, momentum=0.9)\n",
        "\n",
        "# Set the training parameters\n",
        "model.compile(loss=tf.keras.losses.Huber(),\n",
        "              optimizer=optimizer,\n",
        "              metrics=[\"mae\"])\n",
        "\n",
        "# Train the model\n",
        "history = model.fit(dataset,epochs=100)"
      ]
    },
    {
      "cell_type": "markdown",
      "metadata": {
        "id": "RjP4kbGiI7cw"
      },
      "source": [
        "## Model Prediction\n",
        "\n",
        "You will then generate batches of windows to generate predictions that align with the validation set."
      ]
    },
    {
      "cell_type": "code",
      "execution_count": 12,
      "metadata": {
        "id": "QO8cfKwKBBG6"
      },
      "outputs": [],
      "source": [
        "def model_forecast(model, series, window_size, batch_size):\n",
        "    \"\"\"Uses an input model to generate predictions on data windows\n",
        "\n",
        "    Args:\n",
        "      model (TF Keras Model) - model that accepts data windows\n",
        "      series (array of float) - contains the values of the time series\n",
        "      window_size (int) - the number of time steps to include in the window\n",
        "      batch_size (int) - the batch size\n",
        "\n",
        "    Returns:\n",
        "      forecast (numpy array) - array containing predictions\n",
        "    \"\"\"\n",
        "\n",
        "    # Generate a TF Dataset from the series values\n",
        "    dataset = tf.data.Dataset.from_tensor_slices(series)\n",
        "\n",
        "    # Window the data but only take those with the specified size\n",
        "    dataset = dataset.window(window_size, shift=1, drop_remainder=True)\n",
        "\n",
        "    # Flatten the windows by putting its elements in a single batch\n",
        "    dataset = dataset.flat_map(lambda w: w.batch(window_size))\n",
        "    \n",
        "    # Create batches of windows\n",
        "    dataset = dataset.batch(batch_size).prefetch(1)\n",
        "    \n",
        "    # Get predictions on the entire dataset\n",
        "    forecast = model.predict(dataset)\n",
        "    \n",
        "    return forecast"
      ]
    },
    {
      "cell_type": "code",
      "execution_count": 13,
      "metadata": {
        "id": "_plB3UseBD8o",
        "colab": {
          "base_uri": "https://localhost:8080/",
          "height": 388
        },
        "outputId": "d61bacc9-f703-4a7a-e8f8-f1a6d08ea354"
      },
      "outputs": [
        {
          "output_type": "display_data",
          "data": {
            "text/plain": [
              "<Figure size 720x432 with 1 Axes>"
            ],
            "image/png": "[encoded data removed]"
          },
          "metadata": {
            "needs_background": "light"
          }
        }
      ],
      "source": [
        "# Reduce the original series\n",
        "forecast_series = series[split_time-window_size:-1]\n",
        "\n",
        "# Use helper function to generate predictions\n",
        "forecast = model_forecast(model, forecast_series, window_size, batch_size)\n",
        "\n",
        "# Drop single dimensional axis\n",
        "results = forecast.squeeze()\n",
        "\n",
        "# Plot the results\n",
        "plot_series(time_valid, (x_valid, results))"
      ]
    },
    {
      "cell_type": "markdown",
      "metadata": {
        "id": "Nn8iSQkZtaRC"
      },
      "source": [
        "You can then generate the metrics to evaluate the model's performance."
      ]
    },
    {
      "cell_type": "code",
      "execution_count": 14,
      "metadata": {
        "id": "-IKhueZaBGID",
        "colab": {
          "base_uri": "https://localhost:8080/"
        },
        "outputId": "d1c5d241-19cf-4ce9-ea22-daf4bbbdc4ea"
      },
      "outputs": [
        {
          "output_type": "stream",
          "name": "stdout",
          "text": [
            "92.25473\n",
            "7.038496\n"
          ]
        }
      ],
      "source": [
        "# Compute the MSE and MAE\n",
        "print(tf.keras.metrics.mean_squared_error(x_valid, results).numpy())\n",
        "print(tf.keras.metrics.mean_absolute_error(x_valid, results).numpy())"
      ]
    },
    {
      "cell_type": "markdown",
      "metadata": {
        "id": "bzPIqeMWvbPy"
      },
      "source": [
        "## Wrap Up\n",
        "\n",
        "This concludes this short exercise on using LSTMs for time series forecasting. Next week, you will build upon this and add convolutions. Then, you will start to move away from synthetic data and use real-world datasets. See you there!"
      ]
    },
    {
      "cell_type": "markdown",
      "metadata": {
        "id": "U5PqTePGHeMH"
      },
      "source": [
        "## Optional: Including a Validation Set while Training\n",
        "\n",
        "Back in the first course of this specialization, you saw how you can also monitor the performance of your model against a validation set while training. You can also do that for this lab. \n",
        "\n",
        "First, you need to generate a `val_set` which are data windows and labels that your model can accept. You can simply reuse the `windowed_dataset` function for that and you can pass in the `x_valid` points to generate the windows."
      ]
    },
    {
      "cell_type": "code",
      "execution_count": 15,
      "metadata": {
        "id": "kvFVwL3PC4iX"
      },
      "outputs": [],
      "source": [
        "# Generate data windows of the validation set\n",
        "val_set = windowed_dataset(x_valid, window_size, batch_size, shuffle_buffer_size)"
      ]
    },
    {
      "cell_type": "markdown",
      "metadata": {
        "id": "p68j6XxEvP9K"
      },
      "source": [
        "You can then do the same training as before but pass in the `val_set` to the `validation_data` parameter of the `fit()` method."
      ]
    },
    {
      "cell_type": "code",
      "execution_count": 16,
      "metadata": {
        "id": "wujKz6tXDSn0",
        "colab": {
          "base_uri": "https://localhost:8080/"
        },
        "outputId": "7290c444-d916-43f3-9ac7-dc5fa80d2027"
      },
      "outputs": [
        {
          "output_type": "stream",
          "name": "stdout",
          "text": [
            "Epoch 1/100\n",
            "31/31 [==============================] - 7s 55ms/step - loss: 24.1447 - mae: 24.6412 - val_loss: 23.3029 - val_mae: 23.8024\n",
            "Epoch 2/100\n",
            "31/31 [==============================] - 1s 14ms/step - loss: 11.4893 - mae: 11.9787 - val_loss: 26.4337 - val_mae: 26.9314\n",
            "Epoch 3/100\n",
            "31/31 [==============================] - 0s 13ms/step - loss: 8.9120 - mae: 9.3971 - val_loss: 20.9371 - val_mae: 21.4342\n",
            "Epoch 4/100\n",
            "31/31 [==============================] - 1s 13ms/step - loss: 7.2267 - mae: 7.7110 - val_loss: 18.2109 - val_mae: 18.7072\n",
            "Epoch 5/100\n",
            "31/31 [==============================] - 1s 13ms/step - loss: 6.4250 - mae: 6.9050 - val_loss: 15.2056 - val_mae: 15.6998\n",
            "Epoch 6/100\n",
            "31/31 [==============================] - 1s 13ms/step - loss: 6.0605 - mae: 6.5413 - val_loss: 13.5722 - val_mae: 14.0653\n",
            "Epoch 7/100\n",
            "31/31 [==============================] - 1s 13ms/step - loss: 5.8278 - mae: 6.3065 - val_loss: 12.7416 - val_mae: 13.2350\n",
            "Epoch 8/100\n",
            "31/31 [==============================] - 1s 13ms/step - loss: 5.6830 - mae: 6.1615 - val_loss: 10.8543 - val_mae: 11.3482\n",
            "Epoch 9/100\n",
            "31/31 [==============================] - 0s 13ms/step - loss: 5.7112 - mae: 6.1947 - val_loss: 12.5976 - val_mae: 13.0920\n",
            "Epoch 10/100\n",
            "31/31 [==============================] - 1s 13ms/step - loss: 5.5275 - mae: 6.0043 - val_loss: 10.4775 - val_mae: 10.9643\n",
            "Epoch 11/100\n",
            "31/31 [==============================] - 0s 13ms/step - loss: 5.4728 - mae: 5.9484 - val_loss: 10.9003 - val_mae: 11.3932\n",
            "Epoch 12/100\n",
            "31/31 [==============================] - 1s 14ms/step - loss: 5.3337 - mae: 5.8129 - val_loss: 9.6100 - val_mae: 10.0975\n",
            "Epoch 13/100\n",
            "31/31 [==============================] - 1s 13ms/step - loss: 5.4021 - mae: 5.8811 - val_loss: 8.7411 - val_mae: 9.2277\n",
            "Epoch 14/100\n",
            "31/31 [==============================] - 1s 14ms/step - loss: 5.2523 - mae: 5.7305 - val_loss: 9.4130 - val_mae: 9.9013\n",
            "Epoch 15/100\n",
            "31/31 [==============================] - 1s 14ms/step - loss: 5.1873 - mae: 5.6653 - val_loss: 9.0184 - val_mae: 9.5034\n",
            "Epoch 16/100\n",
            "31/31 [==============================] - 1s 13ms/step - loss: 5.1207 - mae: 5.5978 - val_loss: 8.4026 - val_mae: 8.8894\n",
            "Epoch 17/100\n",
            "31/31 [==============================] - 1s 14ms/step - loss: 5.1265 - mae: 5.6094 - val_loss: 7.9428 - val_mae: 8.4341\n",
            "Epoch 18/100\n",
            "31/31 [==============================] - 0s 13ms/step - loss: 5.0432 - mae: 5.5214 - val_loss: 7.9709 - val_mae: 8.4600\n",
            "Epoch 19/100\n",
            "31/31 [==============================] - 0s 13ms/step - loss: 5.0261 - mae: 5.5008 - val_loss: 8.3485 - val_mae: 8.8341\n",
            "Epoch 20/100\n",
            "31/31 [==============================] - 1s 14ms/step - loss: 4.9931 - mae: 5.4733 - val_loss: 8.7113 - val_mae: 9.1978\n",
            "Epoch 21/100\n",
            "31/31 [==============================] - 1s 14ms/step - loss: 5.0823 - mae: 5.5591 - val_loss: 8.3167 - val_mae: 8.8041\n",
            "Epoch 22/100\n",
            "31/31 [==============================] - 1s 14ms/step - loss: 4.9435 - mae: 5.4165 - val_loss: 7.3915 - val_mae: 7.8767\n",
            "Epoch 23/100\n",
            "31/31 [==============================] - 1s 13ms/step - loss: 5.0474 - mae: 5.5297 - val_loss: 8.5566 - val_mae: 9.0439\n",
            "Epoch 24/100\n",
            "31/31 [==============================] - 1s 14ms/step - loss: 5.0572 - mae: 5.5348 - val_loss: 7.0527 - val_mae: 7.5362\n",
            "Epoch 25/100\n",
            "31/31 [==============================] - 0s 13ms/step - loss: 4.9479 - mae: 5.4245 - val_loss: 7.4612 - val_mae: 7.9446\n",
            "Epoch 26/100\n",
            "31/31 [==============================] - 1s 13ms/step - loss: 4.9177 - mae: 5.3908 - val_loss: 7.8846 - val_mae: 8.3716\n",
            "Epoch 27/100\n",
            "31/31 [==============================] - 1s 13ms/step - loss: 4.9052 - mae: 5.3817 - val_loss: 7.6146 - val_mae: 8.0990\n",
            "Epoch 28/100\n",
            "31/31 [==============================] - 1s 14ms/step - loss: 5.0012 - mae: 5.4795 - val_loss: 6.8561 - val_mae: 7.3385\n",
            "Epoch 29/100\n",
            "31/31 [==============================] - 1s 13ms/step - loss: 4.8596 - mae: 5.3344 - val_loss: 7.3152 - val_mae: 7.7937\n",
            "Epoch 30/100\n",
            "31/31 [==============================] - 1s 13ms/step - loss: 4.8328 - mae: 5.3127 - val_loss: 7.8182 - val_mae: 8.3044\n",
            "Epoch 31/100\n",
            "31/31 [==============================] - 1s 14ms/step - loss: 4.7835 - mae: 5.2602 - val_loss: 7.7272 - val_mae: 8.2128\n",
            "Epoch 32/100\n",
            "31/31 [==============================] - 1s 14ms/step - loss: 4.8150 - mae: 5.2927 - val_loss: 7.3398 - val_mae: 7.8213\n",
            "Epoch 33/100\n",
            "31/31 [==============================] - 1s 14ms/step - loss: 4.8028 - mae: 5.2821 - val_loss: 6.6825 - val_mae: 7.1682\n",
            "Epoch 34/100\n",
            "31/31 [==============================] - 1s 13ms/step - loss: 4.8235 - mae: 5.2986 - val_loss: 7.0605 - val_mae: 7.5422\n",
            "Epoch 35/100\n",
            "31/31 [==============================] - 1s 13ms/step - loss: 4.7782 - mae: 5.2562 - val_loss: 6.3583 - val_mae: 6.8425\n",
            "Epoch 36/100\n",
            "31/31 [==============================] - 1s 13ms/step - loss: 4.7362 - mae: 5.2121 - val_loss: 6.8004 - val_mae: 7.2845\n",
            "Epoch 37/100\n",
            "31/31 [==============================] - 1s 13ms/step - loss: 4.7645 - mae: 5.2456 - val_loss: 6.9102 - val_mae: 7.3933\n",
            "Epoch 38/100\n",
            "31/31 [==============================] - 1s 13ms/step - loss: 4.7208 - mae: 5.1999 - val_loss: 6.6034 - val_mae: 7.0874\n",
            "Epoch 39/100\n",
            "31/31 [==============================] - 1s 14ms/step - loss: 4.7050 - mae: 5.1830 - val_loss: 6.9359 - val_mae: 7.4213\n",
            "Epoch 40/100\n",
            "31/31 [==============================] - 1s 14ms/step - loss: 4.8212 - mae: 5.2980 - val_loss: 7.8968 - val_mae: 8.3859\n",
            "Epoch 41/100\n",
            "31/31 [==============================] - 1s 13ms/step - loss: 4.6739 - mae: 5.1495 - val_loss: 7.2728 - val_mae: 7.7518\n",
            "Epoch 42/100\n",
            "31/31 [==============================] - 1s 14ms/step - loss: 4.6974 - mae: 5.1711 - val_loss: 6.6778 - val_mae: 7.1608\n",
            "Epoch 43/100\n",
            "31/31 [==============================] - 1s 13ms/step - loss: 4.7369 - mae: 5.2155 - val_loss: 6.5025 - val_mae: 6.9870\n",
            "Epoch 44/100\n",
            "31/31 [==============================] - 1s 14ms/step - loss: 4.6962 - mae: 5.1731 - val_loss: 7.7439 - val_mae: 8.2337\n",
            "Epoch 45/100\n",
            "31/31 [==============================] - 1s 14ms/step - loss: 4.7373 - mae: 5.2136 - val_loss: 6.9259 - val_mae: 7.4056\n",
            "Epoch 46/100\n",
            "31/31 [==============================] - 1s 14ms/step - loss: 4.7371 - mae: 5.2164 - val_loss: 6.3211 - val_mae: 6.8047\n",
            "Epoch 47/100\n",
            "31/31 [==============================] - 1s 13ms/step - loss: 4.6447 - mae: 5.1245 - val_loss: 6.9956 - val_mae: 7.4711\n",
            "Epoch 48/100\n",
            "31/31 [==============================] - 1s 14ms/step - loss: 4.6948 - mae: 5.1704 - val_loss: 8.9451 - val_mae: 9.4368\n",
            "Epoch 49/100\n",
            "31/31 [==============================] - 0s 13ms/step - loss: 4.7584 - mae: 5.2330 - val_loss: 6.4516 - val_mae: 6.9317\n",
            "Epoch 50/100\n",
            "31/31 [==============================] - 1s 13ms/step - loss: 4.6894 - mae: 5.1657 - val_loss: 7.6668 - val_mae: 8.1555\n",
            "Epoch 51/100\n",
            "31/31 [==============================] - 1s 13ms/step - loss: 4.6091 - mae: 5.0831 - val_loss: 7.1944 - val_mae: 7.6782\n",
            "Epoch 52/100\n",
            "31/31 [==============================] - 1s 14ms/step - loss: 4.5906 - mae: 5.0621 - val_loss: 6.4785 - val_mae: 6.9596\n",
            "Epoch 53/100\n",
            "31/31 [==============================] - 1s 14ms/step - loss: 4.6092 - mae: 5.0842 - val_loss: 7.0336 - val_mae: 7.5148\n",
            "Epoch 54/100\n",
            "31/31 [==============================] - 1s 13ms/step - loss: 4.5604 - mae: 5.0384 - val_loss: 6.4660 - val_mae: 6.9467\n",
            "Epoch 55/100\n",
            "31/31 [==============================] - 1s 14ms/step - loss: 4.6204 - mae: 5.0981 - val_loss: 6.4988 - val_mae: 6.9777\n",
            "Epoch 56/100\n",
            "31/31 [==============================] - 1s 13ms/step - loss: 4.6449 - mae: 5.1178 - val_loss: 6.5176 - val_mae: 6.9950\n",
            "Epoch 57/100\n",
            "31/31 [==============================] - 1s 14ms/step - loss: 4.6294 - mae: 5.1023 - val_loss: 6.1630 - val_mae: 6.6465\n",
            "Epoch 58/100\n",
            "31/31 [==============================] - 1s 13ms/step - loss: 4.7364 - mae: 5.2133 - val_loss: 5.7850 - val_mae: 6.2680\n",
            "Epoch 59/100\n",
            "31/31 [==============================] - 1s 14ms/step - loss: 4.7378 - mae: 5.2181 - val_loss: 5.6905 - val_mae: 6.1748\n",
            "Epoch 60/100\n",
            "31/31 [==============================] - 1s 13ms/step - loss: 4.5508 - mae: 5.0280 - val_loss: 6.1718 - val_mae: 6.6569\n",
            "Epoch 61/100\n",
            "31/31 [==============================] - 1s 14ms/step - loss: 4.6946 - mae: 5.1681 - val_loss: 5.8869 - val_mae: 6.3674\n",
            "Epoch 62/100\n",
            "31/31 [==============================] - 1s 13ms/step - loss: 4.5754 - mae: 5.0502 - val_loss: 5.8593 - val_mae: 6.3407\n",
            "Epoch 63/100\n",
            "31/31 [==============================] - 1s 13ms/step - loss: 4.6152 - mae: 5.0942 - val_loss: 6.4028 - val_mae: 6.8795\n",
            "Epoch 64/100\n",
            "31/31 [==============================] - 1s 14ms/step - loss: 4.6044 - mae: 5.0802 - val_loss: 5.6377 - val_mae: 6.1238\n",
            "Epoch 65/100\n",
            "31/31 [==============================] - 1s 14ms/step - loss: 4.7100 - mae: 5.1868 - val_loss: 5.9572 - val_mae: 6.4422\n",
            "Epoch 66/100\n",
            "31/31 [==============================] - 1s 14ms/step - loss: 4.5098 - mae: 4.9851 - val_loss: 6.0904 - val_mae: 6.5739\n",
            "Epoch 67/100\n",
            "31/31 [==============================] - 1s 13ms/step - loss: 4.5025 - mae: 4.9732 - val_loss: 6.2487 - val_mae: 6.7253\n",
            "Epoch 68/100\n",
            "31/31 [==============================] - 1s 14ms/step - loss: 4.5309 - mae: 5.0070 - val_loss: 6.4125 - val_mae: 6.8906\n",
            "Epoch 69/100\n",
            "31/31 [==============================] - 1s 13ms/step - loss: 4.5432 - mae: 5.0195 - val_loss: 7.5404 - val_mae: 8.0303\n",
            "Epoch 70/100\n",
            "31/31 [==============================] - 1s 13ms/step - loss: 4.5374 - mae: 5.0095 - val_loss: 6.8031 - val_mae: 7.2843\n",
            "Epoch 71/100\n",
            "31/31 [==============================] - 1s 14ms/step - loss: 4.5131 - mae: 4.9880 - val_loss: 6.8204 - val_mae: 7.3014\n",
            "Epoch 72/100\n",
            "31/31 [==============================] - 1s 13ms/step - loss: 4.5250 - mae: 4.9981 - val_loss: 5.8013 - val_mae: 6.2842\n",
            "Epoch 73/100\n",
            "31/31 [==============================] - 1s 13ms/step - loss: 4.5070 - mae: 4.9857 - val_loss: 6.3208 - val_mae: 6.7993\n",
            "Epoch 74/100\n",
            "31/31 [==============================] - 1s 14ms/step - loss: 4.4891 - mae: 4.9663 - val_loss: 5.7207 - val_mae: 6.2055\n",
            "Epoch 75/100\n",
            "31/31 [==============================] - 0s 13ms/step - loss: 4.6752 - mae: 5.1501 - val_loss: 5.5319 - val_mae: 6.0152\n",
            "Epoch 76/100\n",
            "31/31 [==============================] - 1s 14ms/step - loss: 4.6440 - mae: 5.1202 - val_loss: 5.9086 - val_mae: 6.3922\n",
            "Epoch 77/100\n",
            "31/31 [==============================] - 1s 14ms/step - loss: 4.5693 - mae: 5.0454 - val_loss: 6.2812 - val_mae: 6.7613\n",
            "Epoch 78/100\n",
            "31/31 [==============================] - 1s 13ms/step - loss: 4.4813 - mae: 4.9549 - val_loss: 5.4973 - val_mae: 5.9819\n",
            "Epoch 79/100\n",
            "31/31 [==============================] - 1s 13ms/step - loss: 4.6145 - mae: 5.0936 - val_loss: 5.9779 - val_mae: 6.4567\n",
            "Epoch 80/100\n",
            "31/31 [==============================] - 1s 13ms/step - loss: 4.4924 - mae: 4.9695 - val_loss: 6.1567 - val_mae: 6.6338\n",
            "Epoch 81/100\n",
            "31/31 [==============================] - 1s 13ms/step - loss: 4.4934 - mae: 4.9665 - val_loss: 6.3963 - val_mae: 6.8751\n",
            "Epoch 82/100\n",
            "31/31 [==============================] - 1s 14ms/step - loss: 4.5341 - mae: 5.0137 - val_loss: 6.0215 - val_mae: 6.4989\n",
            "Epoch 83/100\n",
            "31/31 [==============================] - 1s 14ms/step - loss: 4.4665 - mae: 4.9415 - val_loss: 5.5998 - val_mae: 6.0866\n",
            "Epoch 84/100\n",
            "31/31 [==============================] - 1s 13ms/step - loss: 4.4818 - mae: 4.9594 - val_loss: 6.6602 - val_mae: 7.1408\n",
            "Epoch 85/100\n",
            "31/31 [==============================] - 1s 14ms/step - loss: 4.5012 - mae: 4.9779 - val_loss: 6.3148 - val_mae: 6.7949\n",
            "Epoch 86/100\n",
            "31/31 [==============================] - 1s 13ms/step - loss: 4.4844 - mae: 4.9588 - val_loss: 5.4894 - val_mae: 5.9688\n",
            "Epoch 87/100\n",
            "31/31 [==============================] - 1s 13ms/step - loss: 4.4999 - mae: 4.9779 - val_loss: 6.8384 - val_mae: 7.3212\n",
            "Epoch 88/100\n",
            "31/31 [==============================] - 0s 13ms/step - loss: 4.5314 - mae: 5.0076 - val_loss: 6.4137 - val_mae: 6.8947\n",
            "Epoch 89/100\n",
            "31/31 [==============================] - 1s 13ms/step - loss: 4.5339 - mae: 5.0082 - val_loss: 5.7127 - val_mae: 6.1919\n",
            "Epoch 90/100\n",
            "31/31 [==============================] - 1s 13ms/step - loss: 4.9437 - mae: 5.4199 - val_loss: 7.6586 - val_mae: 8.1480\n",
            "Epoch 91/100\n",
            "31/31 [==============================] - 1s 14ms/step - loss: 4.4912 - mae: 4.9728 - val_loss: 5.7437 - val_mae: 6.2271\n",
            "Epoch 92/100\n",
            "31/31 [==============================] - 1s 14ms/step - loss: 4.6012 - mae: 5.0763 - val_loss: 5.6664 - val_mae: 6.1509\n",
            "Epoch 93/100\n",
            "31/31 [==============================] - 1s 14ms/step - loss: 4.4648 - mae: 4.9377 - val_loss: 5.4943 - val_mae: 5.9741\n",
            "Epoch 94/100\n",
            "31/31 [==============================] - 1s 13ms/step - loss: 4.4381 - mae: 4.9110 - val_loss: 5.4311 - val_mae: 5.9167\n",
            "Epoch 95/100\n",
            "31/31 [==============================] - 1s 13ms/step - loss: 4.8757 - mae: 5.3533 - val_loss: 5.9486 - val_mae: 6.4259\n",
            "Epoch 96/100\n",
            "31/31 [==============================] - 1s 14ms/step - loss: 4.6231 - mae: 5.0975 - val_loss: 7.2234 - val_mae: 7.7069\n",
            "Epoch 97/100\n",
            "31/31 [==============================] - 1s 13ms/step - loss: 4.5470 - mae: 5.0236 - val_loss: 5.4651 - val_mae: 5.9492\n",
            "Epoch 98/100\n",
            "31/31 [==============================] - 1s 14ms/step - loss: 4.4796 - mae: 4.9540 - val_loss: 5.4368 - val_mae: 5.9173\n",
            "Epoch 99/100\n",
            "31/31 [==============================] - 1s 14ms/step - loss: 4.4531 - mae: 4.9288 - val_loss: 5.8879 - val_mae: 6.3649\n",
            "Epoch 100/100\n",
            "31/31 [==============================] - 1s 13ms/step - loss: 4.4837 - mae: 4.9605 - val_loss: 5.3850 - val_mae: 5.8651\n"
          ]
        }
      ],
      "source": [
        "# Reset states generated by Keras\n",
        "tf.keras.backend.clear_session()\n",
        "\n",
        "# Build the model\n",
        "model = tf.keras.models.Sequential([\n",
        "  tf.keras.layers.Lambda(lambda x: tf.expand_dims(x, axis=-1),\n",
        "                      input_shape=[None]),\n",
        "   tf.keras.layers.Bidirectional(tf.keras.layers.LSTM(32, return_sequences=True)),\n",
        "  tf.keras.layers.Bidirectional(tf.keras.layers.LSTM(32)),\n",
        "  tf.keras.layers.Dense(1),\n",
        "  tf.keras.layers.Lambda(lambda x: x * 100.0)\n",
        "])\n",
        "\n",
        "# Set the learning rate\n",
        "learning_rate = 2e-6\n",
        "\n",
        "# Set the optimizer \n",
        "optimizer = tf.keras.optimizers.SGD(learning_rate=learning_rate, momentum=0.9)\n",
        "\n",
        "# Set the training parameters\n",
        "model.compile(loss=tf.keras.losses.Huber(),\n",
        "              optimizer=optimizer,\n",
        "              metrics=[\"mae\"])\n",
        "\n",
        "# Train the model\n",
        "history = model.fit(dataset,epochs=100, validation_data=val_set)"
      ]
    }
  ],
  "metadata": {
    "accelerator": "GPU",
    "colab": {
      "collapsed_sections": [],
      "name": "C4_W3_Lab_2_LSTM.ipynb",
      "provenance": []
    },
    "kernelspec": {
      "display_name": "Python 3",
      "language": "python",
      "name": "python3"
    },
    "language_info": {
      "codemirror_mode": {
        "name": "ipython",
        "version": 3
      },
      "file_extension": ".py",
      "mimetype": "text/x-python",
      "name": "python",
      "nbconvert_exporter": "python",
      "pygments_lexer": "ipython3",
      "version": "3.7.4"
    },
    "gpuClass": "standard"
  },
  "nbformat": 4,
  "nbformat_minor": 0
}